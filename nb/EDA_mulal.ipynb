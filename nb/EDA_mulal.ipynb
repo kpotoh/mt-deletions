{
 "cells": [
  {
   "cell_type": "code",
   "execution_count": 24,
   "metadata": {},
   "outputs": [],
   "source": [
    "import numpy as np\n",
    "import pandas as pd\n",
    "import matplotlib.pyplot as plt\n",
    "from Bio import SeqIO\n",
    "from Bio.Data import CodonTable\n",
    "import tqdm"
   ]
  },
  {
   "cell_type": "code",
   "execution_count": 22,
   "metadata": {},
   "outputs": [
    {
     "data": {
      "text/plain": [
       "'GATCRYWSMKHBVDN-'"
      ]
     },
     "execution_count": 22,
     "metadata": {},
     "output_type": "execute_result"
    }
   ],
   "source": [
    "codontable = CodonTable.ambiguous_dna_by_id[1]\n",
    "possible_nucls = codontable.nucleotide_alphabet + \"-\"\n",
    "possible_nucls"
   ]
  },
  {
   "cell_type": "code",
   "execution_count": 20,
   "metadata": {},
   "outputs": [],
   "source": [
    "PATH_TO_MULAL = \"../data/interim/mulal.fasta\""
   ]
  },
  {
   "cell_type": "code",
   "execution_count": 38,
   "metadata": {},
   "outputs": [
    {
     "name": "stderr",
     "output_type": "stream",
     "text": [
      "Seqs: 100%|█████████▉| 56445/56446 [02:11<00:00, 429.02it/s]\n"
     ]
    }
   ],
   "source": [
    "fasta = SeqIO.parse(PATH_TO_MULAL, \"fasta\")\n",
    "ref_rec = next(fasta)\n",
    "base_dct = {nucl: 0 for nucl in possible_nucls}\n",
    "data = [base_dct.copy() for _ in range(len(ref_rec.seq))]\n",
    "for rec in tqdm.tqdm(fasta, \"Seqs\", 56446):\n",
    "    seq = str(rec.seq)\n",
    "    for i, nucl in enumerate(seq):\n",
    "        data[i][nucl] += 1\n"
   ]
  },
  {
   "cell_type": "code",
   "execution_count": 51,
   "metadata": {},
   "outputs": [
    {
     "ename": "OSError",
     "evalue": "Cannot save file into a non-existent directory: '../data/processed'",
     "output_type": "error",
     "traceback": [
      "\u001b[0;31m---------------------------------------------------------------------------\u001b[0m",
      "\u001b[0;31mOSError\u001b[0m                                   Traceback (most recent call last)",
      "\u001b[1;32m/home/kpotoh/mt-deletions/nb/EDA_mulal.ipynb Cell 5'\u001b[0m in \u001b[0;36m<module>\u001b[0;34m\u001b[0m\n\u001b[1;32m      <a href='vscode-notebook-cell:/home/kpotoh/mt-deletions/nb/EDA_mulal.ipynb#ch0000006?line=2'>3</a>\u001b[0m df\u001b[39m.\u001b[39mrename(columns\u001b[39m=\u001b[39m{\u001b[39m\"\u001b[39m\u001b[39mindex\u001b[39m\u001b[39m\"\u001b[39m: \u001b[39m\"\u001b[39m\u001b[39mPos\u001b[39m\u001b[39m\"\u001b[39m}, inplace\u001b[39m=\u001b[39m\u001b[39mTrue\u001b[39;00m)\n\u001b[1;32m      <a href='vscode-notebook-cell:/home/kpotoh/mt-deletions/nb/EDA_mulal.ipynb#ch0000006?line=3'>4</a>\u001b[0m df[\u001b[39m\"\u001b[39m\u001b[39mPos\u001b[39m\u001b[39m\"\u001b[39m] \u001b[39m+\u001b[39m\u001b[39m=\u001b[39m \u001b[39m1\u001b[39m\n\u001b[0;32m----> <a href='vscode-notebook-cell:/home/kpotoh/mt-deletions/nb/EDA_mulal.ipynb#ch0000006?line=4'>5</a>\u001b[0m df\u001b[39m.\u001b[39;49mto_csv(\u001b[39m\"\u001b[39;49m\u001b[39m../data/processed/genomes_summary.tsv\u001b[39;49m\u001b[39m\"\u001b[39;49m, sep\u001b[39m=\u001b[39;49m\u001b[39m\"\u001b[39;49m\u001b[39m\\t\u001b[39;49;00m\u001b[39m\"\u001b[39;49m, index\u001b[39m=\u001b[39;49m\u001b[39mNone\u001b[39;49;00m)\n\u001b[1;32m      <a href='vscode-notebook-cell:/home/kpotoh/mt-deletions/nb/EDA_mulal.ipynb#ch0000006?line=5'>6</a>\u001b[0m df\u001b[39m.\u001b[39mtail()\n",
      "File \u001b[0;32m~/birds/env_birds/lib/python3.9/site-packages/pandas/core/generic.py:3563\u001b[0m, in \u001b[0;36mNDFrame.to_csv\u001b[0;34m(self, path_or_buf, sep, na_rep, float_format, columns, header, index, index_label, mode, encoding, compression, quoting, quotechar, line_terminator, chunksize, date_format, doublequote, escapechar, decimal, errors, storage_options)\u001b[0m\n\u001b[1;32m   <a href='file:///~/birds/env_birds/lib/python3.9/site-packages/pandas/core/generic.py?line=3551'>3552</a>\u001b[0m df \u001b[39m=\u001b[39m \u001b[39mself\u001b[39m \u001b[39mif\u001b[39;00m \u001b[39misinstance\u001b[39m(\u001b[39mself\u001b[39m, ABCDataFrame) \u001b[39melse\u001b[39;00m \u001b[39mself\u001b[39m\u001b[39m.\u001b[39mto_frame()\n\u001b[1;32m   <a href='file:///~/birds/env_birds/lib/python3.9/site-packages/pandas/core/generic.py?line=3553'>3554</a>\u001b[0m formatter \u001b[39m=\u001b[39m DataFrameFormatter(\n\u001b[1;32m   <a href='file:///~/birds/env_birds/lib/python3.9/site-packages/pandas/core/generic.py?line=3554'>3555</a>\u001b[0m     frame\u001b[39m=\u001b[39mdf,\n\u001b[1;32m   <a href='file:///~/birds/env_birds/lib/python3.9/site-packages/pandas/core/generic.py?line=3555'>3556</a>\u001b[0m     header\u001b[39m=\u001b[39mheader,\n\u001b[0;32m   (...)\u001b[0m\n\u001b[1;32m   <a href='file:///~/birds/env_birds/lib/python3.9/site-packages/pandas/core/generic.py?line=3559'>3560</a>\u001b[0m     decimal\u001b[39m=\u001b[39mdecimal,\n\u001b[1;32m   <a href='file:///~/birds/env_birds/lib/python3.9/site-packages/pandas/core/generic.py?line=3560'>3561</a>\u001b[0m )\n\u001b[0;32m-> <a href='file:///~/birds/env_birds/lib/python3.9/site-packages/pandas/core/generic.py?line=3562'>3563</a>\u001b[0m \u001b[39mreturn\u001b[39;00m DataFrameRenderer(formatter)\u001b[39m.\u001b[39;49mto_csv(\n\u001b[1;32m   <a href='file:///~/birds/env_birds/lib/python3.9/site-packages/pandas/core/generic.py?line=3563'>3564</a>\u001b[0m     path_or_buf,\n\u001b[1;32m   <a href='file:///~/birds/env_birds/lib/python3.9/site-packages/pandas/core/generic.py?line=3564'>3565</a>\u001b[0m     line_terminator\u001b[39m=\u001b[39;49mline_terminator,\n\u001b[1;32m   <a href='file:///~/birds/env_birds/lib/python3.9/site-packages/pandas/core/generic.py?line=3565'>3566</a>\u001b[0m     sep\u001b[39m=\u001b[39;49msep,\n\u001b[1;32m   <a href='file:///~/birds/env_birds/lib/python3.9/site-packages/pandas/core/generic.py?line=3566'>3567</a>\u001b[0m     encoding\u001b[39m=\u001b[39;49mencoding,\n\u001b[1;32m   <a href='file:///~/birds/env_birds/lib/python3.9/site-packages/pandas/core/generic.py?line=3567'>3568</a>\u001b[0m     errors\u001b[39m=\u001b[39;49merrors,\n\u001b[1;32m   <a href='file:///~/birds/env_birds/lib/python3.9/site-packages/pandas/core/generic.py?line=3568'>3569</a>\u001b[0m     compression\u001b[39m=\u001b[39;49mcompression,\n\u001b[1;32m   <a href='file:///~/birds/env_birds/lib/python3.9/site-packages/pandas/core/generic.py?line=3569'>3570</a>\u001b[0m     quoting\u001b[39m=\u001b[39;49mquoting,\n\u001b[1;32m   <a href='file:///~/birds/env_birds/lib/python3.9/site-packages/pandas/core/generic.py?line=3570'>3571</a>\u001b[0m     columns\u001b[39m=\u001b[39;49mcolumns,\n\u001b[1;32m   <a href='file:///~/birds/env_birds/lib/python3.9/site-packages/pandas/core/generic.py?line=3571'>3572</a>\u001b[0m     index_label\u001b[39m=\u001b[39;49mindex_label,\n\u001b[1;32m   <a href='file:///~/birds/env_birds/lib/python3.9/site-packages/pandas/core/generic.py?line=3572'>3573</a>\u001b[0m     mode\u001b[39m=\u001b[39;49mmode,\n\u001b[1;32m   <a href='file:///~/birds/env_birds/lib/python3.9/site-packages/pandas/core/generic.py?line=3573'>3574</a>\u001b[0m     chunksize\u001b[39m=\u001b[39;49mchunksize,\n\u001b[1;32m   <a href='file:///~/birds/env_birds/lib/python3.9/site-packages/pandas/core/generic.py?line=3574'>3575</a>\u001b[0m     quotechar\u001b[39m=\u001b[39;49mquotechar,\n\u001b[1;32m   <a href='file:///~/birds/env_birds/lib/python3.9/site-packages/pandas/core/generic.py?line=3575'>3576</a>\u001b[0m     date_format\u001b[39m=\u001b[39;49mdate_format,\n\u001b[1;32m   <a href='file:///~/birds/env_birds/lib/python3.9/site-packages/pandas/core/generic.py?line=3576'>3577</a>\u001b[0m     doublequote\u001b[39m=\u001b[39;49mdoublequote,\n\u001b[1;32m   <a href='file:///~/birds/env_birds/lib/python3.9/site-packages/pandas/core/generic.py?line=3577'>3578</a>\u001b[0m     escapechar\u001b[39m=\u001b[39;49mescapechar,\n\u001b[1;32m   <a href='file:///~/birds/env_birds/lib/python3.9/site-packages/pandas/core/generic.py?line=3578'>3579</a>\u001b[0m     storage_options\u001b[39m=\u001b[39;49mstorage_options,\n\u001b[1;32m   <a href='file:///~/birds/env_birds/lib/python3.9/site-packages/pandas/core/generic.py?line=3579'>3580</a>\u001b[0m )\n",
      "File \u001b[0;32m~/birds/env_birds/lib/python3.9/site-packages/pandas/io/formats/format.py:1180\u001b[0m, in \u001b[0;36mDataFrameRenderer.to_csv\u001b[0;34m(self, path_or_buf, encoding, sep, columns, index_label, mode, compression, quoting, quotechar, line_terminator, chunksize, date_format, doublequote, escapechar, errors, storage_options)\u001b[0m\n\u001b[1;32m   <a href='file:///~/birds/env_birds/lib/python3.9/site-packages/pandas/io/formats/format.py?line=1158'>1159</a>\u001b[0m     created_buffer \u001b[39m=\u001b[39m \u001b[39mFalse\u001b[39;00m\n\u001b[1;32m   <a href='file:///~/birds/env_birds/lib/python3.9/site-packages/pandas/io/formats/format.py?line=1160'>1161</a>\u001b[0m csv_formatter \u001b[39m=\u001b[39m CSVFormatter(\n\u001b[1;32m   <a href='file:///~/birds/env_birds/lib/python3.9/site-packages/pandas/io/formats/format.py?line=1161'>1162</a>\u001b[0m     path_or_buf\u001b[39m=\u001b[39mpath_or_buf,\n\u001b[1;32m   <a href='file:///~/birds/env_birds/lib/python3.9/site-packages/pandas/io/formats/format.py?line=1162'>1163</a>\u001b[0m     line_terminator\u001b[39m=\u001b[39mline_terminator,\n\u001b[0;32m   (...)\u001b[0m\n\u001b[1;32m   <a href='file:///~/birds/env_birds/lib/python3.9/site-packages/pandas/io/formats/format.py?line=1177'>1178</a>\u001b[0m     formatter\u001b[39m=\u001b[39m\u001b[39mself\u001b[39m\u001b[39m.\u001b[39mfmt,\n\u001b[1;32m   <a href='file:///~/birds/env_birds/lib/python3.9/site-packages/pandas/io/formats/format.py?line=1178'>1179</a>\u001b[0m )\n\u001b[0;32m-> <a href='file:///~/birds/env_birds/lib/python3.9/site-packages/pandas/io/formats/format.py?line=1179'>1180</a>\u001b[0m csv_formatter\u001b[39m.\u001b[39;49msave()\n\u001b[1;32m   <a href='file:///~/birds/env_birds/lib/python3.9/site-packages/pandas/io/formats/format.py?line=1181'>1182</a>\u001b[0m \u001b[39mif\u001b[39;00m created_buffer:\n\u001b[1;32m   <a href='file:///~/birds/env_birds/lib/python3.9/site-packages/pandas/io/formats/format.py?line=1182'>1183</a>\u001b[0m     \u001b[39massert\u001b[39;00m \u001b[39misinstance\u001b[39m(path_or_buf, StringIO)\n",
      "File \u001b[0;32m~/birds/env_birds/lib/python3.9/site-packages/pandas/io/formats/csvs.py:241\u001b[0m, in \u001b[0;36mCSVFormatter.save\u001b[0;34m(self)\u001b[0m\n\u001b[1;32m    <a href='file:///~/birds/env_birds/lib/python3.9/site-packages/pandas/io/formats/csvs.py?line=236'>237</a>\u001b[0m \u001b[39m\"\"\"\u001b[39;00m\n\u001b[1;32m    <a href='file:///~/birds/env_birds/lib/python3.9/site-packages/pandas/io/formats/csvs.py?line=237'>238</a>\u001b[0m \u001b[39mCreate the writer & save.\u001b[39;00m\n\u001b[1;32m    <a href='file:///~/birds/env_birds/lib/python3.9/site-packages/pandas/io/formats/csvs.py?line=238'>239</a>\u001b[0m \u001b[39m\"\"\"\u001b[39;00m\n\u001b[1;32m    <a href='file:///~/birds/env_birds/lib/python3.9/site-packages/pandas/io/formats/csvs.py?line=239'>240</a>\u001b[0m \u001b[39m# apply compression and byte/text conversion\u001b[39;00m\n\u001b[0;32m--> <a href='file:///~/birds/env_birds/lib/python3.9/site-packages/pandas/io/formats/csvs.py?line=240'>241</a>\u001b[0m \u001b[39mwith\u001b[39;00m get_handle(\n\u001b[1;32m    <a href='file:///~/birds/env_birds/lib/python3.9/site-packages/pandas/io/formats/csvs.py?line=241'>242</a>\u001b[0m     \u001b[39mself\u001b[39;49m\u001b[39m.\u001b[39;49mfilepath_or_buffer,\n\u001b[1;32m    <a href='file:///~/birds/env_birds/lib/python3.9/site-packages/pandas/io/formats/csvs.py?line=242'>243</a>\u001b[0m     \u001b[39mself\u001b[39;49m\u001b[39m.\u001b[39;49mmode,\n\u001b[1;32m    <a href='file:///~/birds/env_birds/lib/python3.9/site-packages/pandas/io/formats/csvs.py?line=243'>244</a>\u001b[0m     encoding\u001b[39m=\u001b[39;49m\u001b[39mself\u001b[39;49m\u001b[39m.\u001b[39;49mencoding,\n\u001b[1;32m    <a href='file:///~/birds/env_birds/lib/python3.9/site-packages/pandas/io/formats/csvs.py?line=244'>245</a>\u001b[0m     errors\u001b[39m=\u001b[39;49m\u001b[39mself\u001b[39;49m\u001b[39m.\u001b[39;49merrors,\n\u001b[1;32m    <a href='file:///~/birds/env_birds/lib/python3.9/site-packages/pandas/io/formats/csvs.py?line=245'>246</a>\u001b[0m     compression\u001b[39m=\u001b[39;49m\u001b[39mself\u001b[39;49m\u001b[39m.\u001b[39;49mcompression,\n\u001b[1;32m    <a href='file:///~/birds/env_birds/lib/python3.9/site-packages/pandas/io/formats/csvs.py?line=246'>247</a>\u001b[0m     storage_options\u001b[39m=\u001b[39;49m\u001b[39mself\u001b[39;49m\u001b[39m.\u001b[39;49mstorage_options,\n\u001b[1;32m    <a href='file:///~/birds/env_birds/lib/python3.9/site-packages/pandas/io/formats/csvs.py?line=247'>248</a>\u001b[0m ) \u001b[39mas\u001b[39;00m handles:\n\u001b[1;32m    <a href='file:///~/birds/env_birds/lib/python3.9/site-packages/pandas/io/formats/csvs.py?line=248'>249</a>\u001b[0m \n\u001b[1;32m    <a href='file:///~/birds/env_birds/lib/python3.9/site-packages/pandas/io/formats/csvs.py?line=249'>250</a>\u001b[0m     \u001b[39m# Note: self.encoding is irrelevant here\u001b[39;00m\n\u001b[1;32m    <a href='file:///~/birds/env_birds/lib/python3.9/site-packages/pandas/io/formats/csvs.py?line=250'>251</a>\u001b[0m     \u001b[39mself\u001b[39m\u001b[39m.\u001b[39mwriter \u001b[39m=\u001b[39m csvlib\u001b[39m.\u001b[39mwriter(\n\u001b[1;32m    <a href='file:///~/birds/env_birds/lib/python3.9/site-packages/pandas/io/formats/csvs.py?line=251'>252</a>\u001b[0m         handles\u001b[39m.\u001b[39mhandle,\n\u001b[1;32m    <a href='file:///~/birds/env_birds/lib/python3.9/site-packages/pandas/io/formats/csvs.py?line=252'>253</a>\u001b[0m         lineterminator\u001b[39m=\u001b[39m\u001b[39mself\u001b[39m\u001b[39m.\u001b[39mline_terminator,\n\u001b[0;32m   (...)\u001b[0m\n\u001b[1;32m    <a href='file:///~/birds/env_birds/lib/python3.9/site-packages/pandas/io/formats/csvs.py?line=257'>258</a>\u001b[0m         quotechar\u001b[39m=\u001b[39m\u001b[39mself\u001b[39m\u001b[39m.\u001b[39mquotechar,\n\u001b[1;32m    <a href='file:///~/birds/env_birds/lib/python3.9/site-packages/pandas/io/formats/csvs.py?line=258'>259</a>\u001b[0m     )\n\u001b[1;32m    <a href='file:///~/birds/env_birds/lib/python3.9/site-packages/pandas/io/formats/csvs.py?line=260'>261</a>\u001b[0m     \u001b[39mself\u001b[39m\u001b[39m.\u001b[39m_save()\n",
      "File \u001b[0;32m~/birds/env_birds/lib/python3.9/site-packages/pandas/io/common.py:697\u001b[0m, in \u001b[0;36mget_handle\u001b[0;34m(path_or_buf, mode, encoding, compression, memory_map, is_text, errors, storage_options)\u001b[0m\n\u001b[1;32m    <a href='file:///~/birds/env_birds/lib/python3.9/site-packages/pandas/io/common.py?line=694'>695</a>\u001b[0m \u001b[39m# Only for write methods\u001b[39;00m\n\u001b[1;32m    <a href='file:///~/birds/env_birds/lib/python3.9/site-packages/pandas/io/common.py?line=695'>696</a>\u001b[0m \u001b[39mif\u001b[39;00m \u001b[39m\"\u001b[39m\u001b[39mr\u001b[39m\u001b[39m\"\u001b[39m \u001b[39mnot\u001b[39;00m \u001b[39min\u001b[39;00m mode \u001b[39mand\u001b[39;00m is_path:\n\u001b[0;32m--> <a href='file:///~/birds/env_birds/lib/python3.9/site-packages/pandas/io/common.py?line=696'>697</a>\u001b[0m     check_parent_directory(\u001b[39mstr\u001b[39;49m(handle))\n\u001b[1;32m    <a href='file:///~/birds/env_birds/lib/python3.9/site-packages/pandas/io/common.py?line=698'>699</a>\u001b[0m \u001b[39mif\u001b[39;00m compression:\n\u001b[1;32m    <a href='file:///~/birds/env_birds/lib/python3.9/site-packages/pandas/io/common.py?line=699'>700</a>\u001b[0m     \u001b[39mif\u001b[39;00m compression \u001b[39m!=\u001b[39m \u001b[39m\"\u001b[39m\u001b[39mzstd\u001b[39m\u001b[39m\"\u001b[39m:\n\u001b[1;32m    <a href='file:///~/birds/env_birds/lib/python3.9/site-packages/pandas/io/common.py?line=700'>701</a>\u001b[0m         \u001b[39m# compression libraries do not like an explicit text-mode\u001b[39;00m\n",
      "File \u001b[0;32m~/birds/env_birds/lib/python3.9/site-packages/pandas/io/common.py:571\u001b[0m, in \u001b[0;36mcheck_parent_directory\u001b[0;34m(path)\u001b[0m\n\u001b[1;32m    <a href='file:///~/birds/env_birds/lib/python3.9/site-packages/pandas/io/common.py?line=568'>569</a>\u001b[0m parent \u001b[39m=\u001b[39m Path(path)\u001b[39m.\u001b[39mparent\n\u001b[1;32m    <a href='file:///~/birds/env_birds/lib/python3.9/site-packages/pandas/io/common.py?line=569'>570</a>\u001b[0m \u001b[39mif\u001b[39;00m \u001b[39mnot\u001b[39;00m parent\u001b[39m.\u001b[39mis_dir():\n\u001b[0;32m--> <a href='file:///~/birds/env_birds/lib/python3.9/site-packages/pandas/io/common.py?line=570'>571</a>\u001b[0m     \u001b[39mraise\u001b[39;00m \u001b[39mOSError\u001b[39;00m(\u001b[39mfr\u001b[39m\u001b[39m\"\u001b[39m\u001b[39mCannot save file into a non-existent directory: \u001b[39m\u001b[39m'\u001b[39m\u001b[39m{\u001b[39;00mparent\u001b[39m}\u001b[39;00m\u001b[39m'\u001b[39m\u001b[39m\"\u001b[39m)\n",
      "\u001b[0;31mOSError\u001b[0m: Cannot save file into a non-existent directory: '../data/processed'"
     ]
    }
   ],
   "source": [
    "df = pd.DataFrame(data)\n",
    "df.reset_index(inplace=True)\n",
    "df.rename(columns={\"index\": \"Pos\"}, inplace=True)\n",
    "df[\"Pos\"] += 1\n",
    "df.to_csv(\"../data/processed/genomes_summary.tsv\", sep=\"\\t\", index=None)\n",
    "df.tail()"
   ]
  },
  {
   "cell_type": "code",
   "execution_count": null,
   "metadata": {},
   "outputs": [],
   "source": []
  },
  {
   "cell_type": "code",
   "execution_count": null,
   "metadata": {},
   "outputs": [],
   "source": []
  },
  {
   "cell_type": "code",
   "execution_count": null,
   "metadata": {},
   "outputs": [],
   "source": []
  },
  {
   "cell_type": "code",
   "execution_count": null,
   "metadata": {},
   "outputs": [],
   "source": []
  }
 ],
 "metadata": {
  "interpreter": {
   "hash": "93a7148c052c610c1403bc8d286a596fa19423aa3f7e7815a5261acadf4fadc1"
  },
  "kernelspec": {
   "display_name": "Python 3.9.5 ('env_birds': venv)",
   "language": "python",
   "name": "python3"
  },
  "language_info": {
   "codemirror_mode": {
    "name": "ipython",
    "version": 3
   },
   "file_extension": ".py",
   "mimetype": "text/x-python",
   "name": "python",
   "nbconvert_exporter": "python",
   "pygments_lexer": "ipython3",
   "version": "3.9.5"
  },
  "orig_nbformat": 4
 },
 "nbformat": 4,
 "nbformat_minor": 2
}
