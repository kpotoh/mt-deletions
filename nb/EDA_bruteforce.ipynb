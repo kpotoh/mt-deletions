{
 "cells": [
  {
   "cell_type": "code",
   "execution_count": 10,
   "metadata": {},
   "outputs": [],
   "source": [
    "import numpy as np\n",
    "import pandas as pd\n",
    "import matplotlib.pyplot as plt\n",
    "import seaborn as sns\n",
    "from Bio import SeqIO"
   ]
  },
  {
   "cell_type": "code",
   "execution_count": 5,
   "metadata": {},
   "outputs": [
    {
     "data": {
      "text/html": [
       "<div>\n",
       "<style scoped>\n",
       "    .dataframe tbody tr th:only-of-type {\n",
       "        vertical-align: middle;\n",
       "    }\n",
       "\n",
       "    .dataframe tbody tr th {\n",
       "        vertical-align: top;\n",
       "    }\n",
       "\n",
       "    .dataframe thead th {\n",
       "        text-align: right;\n",
       "    }\n",
       "</style>\n",
       "<table border=\"1\" class=\"dataframe\">\n",
       "  <thead>\n",
       "    <tr style=\"text-align: right;\">\n",
       "      <th></th>\n",
       "      <th>RE</th>\n",
       "      <th>Site</th>\n",
       "      <th>SeqName</th>\n",
       "      <th>CutPos</th>\n",
       "    </tr>\n",
       "  </thead>\n",
       "  <tbody>\n",
       "    <tr>\n",
       "      <th>0</th>\n",
       "      <td>BmtI</td>\n",
       "      <td>GCTAGC</td>\n",
       "      <td>MK968879.1 Homo sapiens isolate YHL_TK036_F4b1...</td>\n",
       "      <td>4588</td>\n",
       "    </tr>\n",
       "    <tr>\n",
       "      <th>1</th>\n",
       "      <td>NmeA6CIII</td>\n",
       "      <td>GCCGAC</td>\n",
       "      <td>MK968879.1 Homo sapiens isolate YHL_TK036_F4b1...</td>\n",
       "      <td>5940</td>\n",
       "    </tr>\n",
       "    <tr>\n",
       "      <th>2</th>\n",
       "      <td>RceI</td>\n",
       "      <td>CATCGAC</td>\n",
       "      <td>MK968879.1 Homo sapiens isolate YHL_TK036_F4b1...</td>\n",
       "      <td>14830</td>\n",
       "    </tr>\n",
       "    <tr>\n",
       "      <th>3</th>\n",
       "      <td>Eco47III</td>\n",
       "      <td>AGCGCT</td>\n",
       "      <td>MK968879.1 Homo sapiens isolate YHL_TK036_F4b1...</td>\n",
       "      <td>4535</td>\n",
       "    </tr>\n",
       "    <tr>\n",
       "      <th>4</th>\n",
       "      <td>NgoMIV</td>\n",
       "      <td>GCCGGC</td>\n",
       "      <td>MK968879.1 Homo sapiens isolate YHL_TK036_F4b1...</td>\n",
       "      <td>935</td>\n",
       "    </tr>\n",
       "  </tbody>\n",
       "</table>\n",
       "</div>"
      ],
      "text/plain": [
       "          RE     Site                                            SeqName  \\\n",
       "0       BmtI   GCTAGC  MK968879.1 Homo sapiens isolate YHL_TK036_F4b1...   \n",
       "1  NmeA6CIII   GCCGAC  MK968879.1 Homo sapiens isolate YHL_TK036_F4b1...   \n",
       "2       RceI  CATCGAC  MK968879.1 Homo sapiens isolate YHL_TK036_F4b1...   \n",
       "3   Eco47III   AGCGCT  MK968879.1 Homo sapiens isolate YHL_TK036_F4b1...   \n",
       "4     NgoMIV   GCCGGC  MK968879.1 Homo sapiens isolate YHL_TK036_F4b1...   \n",
       "\n",
       "   CutPos  \n",
       "0    4588  \n",
       "1    5940  \n",
       "2   14830  \n",
       "3    4535  \n",
       "4     935  "
      ]
     },
     "execution_count": 5,
     "metadata": {},
     "output_type": "execute_result"
    }
   ],
   "source": [
    "df = pd.read_csv(\"../data/processed/re.csv\")\n",
    "df.head()"
   ]
  },
  {
   "cell_type": "code",
   "execution_count": 6,
   "metadata": {},
   "outputs": [
    {
     "data": {
      "text/html": [
       "<div>\n",
       "<style scoped>\n",
       "    .dataframe tbody tr th:only-of-type {\n",
       "        vertical-align: middle;\n",
       "    }\n",
       "\n",
       "    .dataframe tbody tr th {\n",
       "        vertical-align: top;\n",
       "    }\n",
       "\n",
       "    .dataframe thead th {\n",
       "        text-align: right;\n",
       "    }\n",
       "</style>\n",
       "<table border=\"1\" class=\"dataframe\">\n",
       "  <thead>\n",
       "    <tr style=\"text-align: right;\">\n",
       "      <th></th>\n",
       "      <th>RE</th>\n",
       "      <th>CuttedSeqs</th>\n",
       "    </tr>\n",
       "  </thead>\n",
       "  <tbody>\n",
       "    <tr>\n",
       "      <th>0</th>\n",
       "      <td>BspDI</td>\n",
       "      <td>56384</td>\n",
       "    </tr>\n",
       "    <tr>\n",
       "      <th>1</th>\n",
       "      <td>BseCI</td>\n",
       "      <td>56384</td>\n",
       "    </tr>\n",
       "    <tr>\n",
       "      <th>2</th>\n",
       "      <td>Bsa29I</td>\n",
       "      <td>56384</td>\n",
       "    </tr>\n",
       "    <tr>\n",
       "      <th>3</th>\n",
       "      <td>Bsu15I</td>\n",
       "      <td>56384</td>\n",
       "    </tr>\n",
       "    <tr>\n",
       "      <th>4</th>\n",
       "      <td>BshVI</td>\n",
       "      <td>56384</td>\n",
       "    </tr>\n",
       "  </tbody>\n",
       "</table>\n",
       "</div>"
      ],
      "text/plain": [
       "       RE  CuttedSeqs\n",
       "0   BspDI       56384\n",
       "1   BseCI       56384\n",
       "2  Bsa29I       56384\n",
       "3  Bsu15I       56384\n",
       "4   BshVI       56384"
      ]
     },
     "execution_count": 6,
     "metadata": {},
     "output_type": "execute_result"
    }
   ],
   "source": [
    "df_counts = df.RE.value_counts().reset_index()\n",
    "df_counts.columns = [\"RE\", \"CuttedSeqs\"]\n",
    "df_counts.head()"
   ]
  },
  {
   "cell_type": "code",
   "execution_count": 7,
   "metadata": {},
   "outputs": [
    {
     "data": {
      "image/png": "[encoded data removed]",
      "text/plain": [
       "<Figure size 432x288 with 1 Axes>"
      ]
     },
     "metadata": {
      "needs_background": "light"
     },
     "output_type": "display_data"
    }
   ],
   "source": [
    "df_counts.hist(bins=80)\n",
    "plt.title(\"Distribution of #CuttedSeqs\")\n",
    "plt.xlabel(\"#CuttedSeqs\")\n",
    "plt.ylabel(\"Amount\")\n",
    "plt.show()"
   ]
  },
  {
   "cell_type": "markdown",
   "metadata": {},
   "source": [
    "We can see that many RE cut more than 50000 genomes"
   ]
  },
  {
   "cell_type": "code",
   "execution_count": 30,
   "metadata": {},
   "outputs": [
    {
     "data": {
      "text/plain": [
       "(22,)"
      ]
     },
     "execution_count": 30,
     "metadata": {},
     "output_type": "execute_result"
    }
   ],
   "source": [
    "# sample best RE\n",
    "freq_re = df_counts[df_counts.CuttedSeqs > 56100].RE.values\n",
    "freq_re.shape"
   ]
  },
  {
   "cell_type": "code",
   "execution_count": 9,
   "metadata": {},
   "outputs": [
    {
     "data": {
      "image/png": "[encoded data removed]",
      "text/plain": [
       "<Figure size 1440x720 with 1 Axes>"
      ]
     },
     "metadata": {
      "needs_background": "light"
     },
     "output_type": "display_data"
    }
   ],
   "source": [
    "plt.figure(figsize=(20, 10))\n",
    "sns.boxplot(x=\"RE\", y=\"CutPos\", data=df[df.RE.isin(freq_re)])\n",
    "plt.xticks(rotation=90)\n",
    "plt.title(\"Distributions (boxplots) of cut positions of best REs\")\n",
    "plt.savefig(\"../figures/cut_position.png\", dpi=100)\n",
    "plt.show()"
   ]
  },
  {
   "cell_type": "markdown",
   "metadata": {},
   "source": [
    "This distributions are very tight, but there are some outlayers, that could be formed by huge deletions in genomes"
   ]
  },
  {
   "cell_type": "markdown",
   "metadata": {},
   "source": [
    "## Helix db check"
   ]
  },
  {
   "cell_type": "code",
   "execution_count": 11,
   "metadata": {},
   "outputs": [
    {
     "name": "stdout",
     "output_type": "stream",
     "text": [
      "(14324, 12)\n"
     ]
    },
    {
     "data": {
      "text/html": [
       "<div>\n",
       "<style scoped>\n",
       "    .dataframe tbody tr th:only-of-type {\n",
       "        vertical-align: middle;\n",
       "    }\n",
       "\n",
       "    .dataframe tbody tr th {\n",
       "        vertical-align: top;\n",
       "    }\n",
       "\n",
       "    .dataframe thead th {\n",
       "        text-align: right;\n",
       "    }\n",
       "</style>\n",
       "<table border=\"1\" class=\"dataframe\">\n",
       "  <thead>\n",
       "    <tr style=\"text-align: right;\">\n",
       "      <th></th>\n",
       "      <th>locus</th>\n",
       "      <th>alleles</th>\n",
       "      <th>feature</th>\n",
       "      <th>gene</th>\n",
       "      <th>counts_hom</th>\n",
       "      <th>AF_hom</th>\n",
       "      <th>counts_het</th>\n",
       "      <th>AF_het</th>\n",
       "      <th>mean_ARF</th>\n",
       "      <th>max_ARF</th>\n",
       "      <th>haplogroups_for_homoplasmic_variants</th>\n",
       "      <th>haplogroups_for_heteroplasmic_variants</th>\n",
       "    </tr>\n",
       "  </thead>\n",
       "  <tbody>\n",
       "    <tr>\n",
       "      <th>0</th>\n",
       "      <td>chrM:5</td>\n",
       "      <td>[\"A\",\"C\"]</td>\n",
       "      <td>non_coding</td>\n",
       "      <td>MT-CRb</td>\n",
       "      <td>1</td>\n",
       "      <td>0.000005</td>\n",
       "      <td>0</td>\n",
       "      <td>0.000000</td>\n",
       "      <td>NaN</td>\n",
       "      <td>NaN</td>\n",
       "      <td>[[\"H\",1]]</td>\n",
       "      <td>[]</td>\n",
       "    </tr>\n",
       "    <tr>\n",
       "      <th>1</th>\n",
       "      <td>chrM:10</td>\n",
       "      <td>[\"T\",\"C\"]</td>\n",
       "      <td>non_coding</td>\n",
       "      <td>MT-CRb</td>\n",
       "      <td>7</td>\n",
       "      <td>0.000036</td>\n",
       "      <td>1</td>\n",
       "      <td>0.000005</td>\n",
       "      <td>0.91892</td>\n",
       "      <td>0.91892</td>\n",
       "      <td>[[\"H\",7]]</td>\n",
       "      <td>[[\"H\",1]]</td>\n",
       "    </tr>\n",
       "    <tr>\n",
       "      <th>2</th>\n",
       "      <td>chrM:11</td>\n",
       "      <td>[\"C\",\"T\"]</td>\n",
       "      <td>non_coding</td>\n",
       "      <td>MT-CRb</td>\n",
       "      <td>0</td>\n",
       "      <td>0.000000</td>\n",
       "      <td>1</td>\n",
       "      <td>0.000005</td>\n",
       "      <td>0.60714</td>\n",
       "      <td>0.60714</td>\n",
       "      <td>[]</td>\n",
       "      <td>[[\"H\",1]]</td>\n",
       "    </tr>\n",
       "    <tr>\n",
       "      <th>3</th>\n",
       "      <td>chrM:12</td>\n",
       "      <td>[\"T\",\"C\"]</td>\n",
       "      <td>non_coding</td>\n",
       "      <td>MT-CRb</td>\n",
       "      <td>1</td>\n",
       "      <td>0.000005</td>\n",
       "      <td>0</td>\n",
       "      <td>0.000000</td>\n",
       "      <td>NaN</td>\n",
       "      <td>NaN</td>\n",
       "      <td>[[\"D\",1]]</td>\n",
       "      <td>[]</td>\n",
       "    </tr>\n",
       "    <tr>\n",
       "      <th>4</th>\n",
       "      <td>chrM:16</td>\n",
       "      <td>[\"A\",\"T\"]</td>\n",
       "      <td>non_coding</td>\n",
       "      <td>MT-CRb</td>\n",
       "      <td>273</td>\n",
       "      <td>0.001393</td>\n",
       "      <td>4</td>\n",
       "      <td>0.000020</td>\n",
       "      <td>0.68971</td>\n",
       "      <td>0.92188</td>\n",
       "      <td>[[\"K\",246],[\"U\",12],[\"H\",7],[\"V\",2],[\"B\",1],[\"...</td>\n",
       "      <td>[[\"K\",2],[\"L3\",1],[\"U\",1]]</td>\n",
       "    </tr>\n",
       "  </tbody>\n",
       "</table>\n",
       "</div>"
      ],
      "text/plain": [
       "     locus    alleles     feature    gene  counts_hom    AF_hom  counts_het  \\\n",
       "0   chrM:5  [\"A\",\"C\"]  non_coding  MT-CRb           1  0.000005           0   \n",
       "1  chrM:10  [\"T\",\"C\"]  non_coding  MT-CRb           7  0.000036           1   \n",
       "2  chrM:11  [\"C\",\"T\"]  non_coding  MT-CRb           0  0.000000           1   \n",
       "3  chrM:12  [\"T\",\"C\"]  non_coding  MT-CRb           1  0.000005           0   \n",
       "4  chrM:16  [\"A\",\"T\"]  non_coding  MT-CRb         273  0.001393           4   \n",
       "\n",
       "     AF_het  mean_ARF  max_ARF  \\\n",
       "0  0.000000       NaN      NaN   \n",
       "1  0.000005   0.91892  0.91892   \n",
       "2  0.000005   0.60714  0.60714   \n",
       "3  0.000000       NaN      NaN   \n",
       "4  0.000020   0.68971  0.92188   \n",
       "\n",
       "                haplogroups_for_homoplasmic_variants  \\\n",
       "0                                          [[\"H\",1]]   \n",
       "1                                          [[\"H\",7]]   \n",
       "2                                                 []   \n",
       "3                                          [[\"D\",1]]   \n",
       "4  [[\"K\",246],[\"U\",12],[\"H\",7],[\"V\",2],[\"B\",1],[\"...   \n",
       "\n",
       "  haplogroups_for_heteroplasmic_variants  \n",
       "0                                     []  \n",
       "1                              [[\"H\",1]]  \n",
       "2                              [[\"H\",1]]  \n",
       "3                                     []  \n",
       "4             [[\"K\",2],[\"L3\",1],[\"U\",1]]  "
      ]
     },
     "execution_count": 11,
     "metadata": {},
     "output_type": "execute_result"
    }
   ],
   "source": [
    "ref = next(SeqIO.parse(\"../data/external/NC_012920.1.fasta\", format=\"fasta\"))\n",
    "\n",
    "helix = pd.read_csv(\"../data/external/HelixMTdb_20200327.tsv\", sep=\"\\t\")\n",
    "print(helix.shape)\n",
    "helix.head()"
   ]
  },
  {
   "cell_type": "code",
   "execution_count": 12,
   "metadata": {},
   "outputs": [],
   "source": [
    "assert helix.shape[0] == helix.locus.str.startswith(\"chrM:\").sum()"
   ]
  },
  {
   "cell_type": "code",
   "execution_count": 13,
   "metadata": {},
   "outputs": [],
   "source": [
    "helix[\"Pos\"] = helix.locus.str.replace(\"chrM:\", \"\").astype(int)"
   ]
  },
  {
   "cell_type": "code",
   "execution_count": 14,
   "metadata": {},
   "outputs": [
    {
     "data": {
      "text/plain": [
       "16569"
      ]
     },
     "execution_count": 14,
     "metadata": {},
     "output_type": "execute_result"
    }
   ],
   "source": [
    "len(ref)"
   ]
  },
  {
   "cell_type": "markdown",
   "metadata": {},
   "source": [
    "### Get almost constant positions\n",
    "```\n",
    "maximal_AF = .00002 (1 / 50_000)\n",
    "```"
   ]
  },
  {
   "cell_type": "code",
   "execution_count": 68,
   "metadata": {},
   "outputs": [
    {
     "data": {
      "text/plain": [
       "[0, 1, 2, 3, 4, 5, 6, 7, 8, 9]"
      ]
     },
     "execution_count": 68,
     "metadata": {},
     "output_type": "execute_result"
    }
   ],
   "source": [
    "maximal_AF = .00002\n",
    "genome_len = len(ref)\n",
    "\n",
    "constant_pos = sorted(set(range(genome_len)).difference(\n",
    "    helix[(helix.AF_hom > maximal_AF) | (helix.AF_het > maximal_AF)].Pos.values)\n",
    ")\n",
    "constant_pos[:10]"
   ]
  },
  {
   "cell_type": "markdown",
   "metadata": {},
   "source": [
    "### Get almost constant sequencies"
   ]
  },
  {
   "cell_type": "code",
   "execution_count": 69,
   "metadata": {},
   "outputs": [
    {
     "name": "stdout",
     "output_type": "stream",
     "text": [
      "226 constant sequences in mt-genome > 5nt\n",
      "Sizes: [10, 6, 7, 7, 17, 7, 9, 13, 15, 7, 7, 7, 12, 6, 9, 9, 9, 13, 10, 17, 6, 6, 10, 8, 13, 6, 8, 9, 30, 8, 8, 26, 18, 9, 12, 10, 13, 6, 6, 24, 6, 20, 15, 11, 12, 9, 8, 9, 19, 6, 9, 8, 8, 29, 11, 8, 7, 7, 13, 7, 10, 7, 6, 9, 9, 7, 11, 6, 15, 13, 17, 15, 10, 16, 10, 13, 7, 10, 10, 6, 7, 8, 9, 6, 6, 6, 14, 7, 8, 37, 35, 13, 8, 6, 17, 7, 24, 6, 9, 14, 13, 8, 16, 10, 9, 12, 11, 8, 12, 26, 6, 10, 13, 8, 7, 21, 30, 11, 8, 23, 6, 10, 6, 6, 6, 6, 6, 11, 11, 13, 8, 6, 6, 7, 13, 12, 13, 9, 15, 16, 12, 7, 14, 12, 11, 7, 8, 7, 11, 10, 11, 6, 7, 6, 7, 8, 7, 12, 16, 9, 13, 20, 9, 8, 7, 8, 6, 7, 7, 8, 8, 8, 8, 8, 14, 13, 8, 11, 7, 7, 6, 6, 8, 6, 8, 8, 6, 7, 7, 8, 8, 7, 8, 11, 8, 8, 8, 8, 14, 9, 6, 6, 14, 7, 14, 12, 11, 6, 7, 8, 8, 9, 6, 8, 20, 15, 6, 16, 18, 6, 13, 8, 12, 6, 8, 6]\n"
     ]
    }
   ],
   "source": [
    "sequentials = []\n",
    "cur_seq = [constant_pos[0]]\n",
    "for pos in constant_pos[1:]:\n",
    "    if pos == cur_seq[-1] + 1:\n",
    "        cur_seq.append(pos)\n",
    "    else:\n",
    "        if len(cur_seq) > 5:\n",
    "            sequentials.append(cur_seq)\n",
    "        cur_seq = [pos]\n",
    "\n",
    "print(len(sequentials), \"constant sequences in mt-genome > 5nt\")\n",
    "print(\"Sizes:\", list(map(len, sequentials)))"
   ]
  },
  {
   "cell_type": "code",
   "execution_count": 70,
   "metadata": {},
   "outputs": [
    {
     "data": {
      "image/png": "[encoded data removed]",
      "text/plain": [
       "<Figure size 1152x72 with 1 Axes>"
      ]
     },
     "metadata": {
      "needs_background": "light"
     },
     "output_type": "display_data"
    }
   ],
   "source": [
    "plt.figure(figsize=(16, 1))\n",
    "for seq in sequentials:\n",
    "    x = [seq[0], seq[-1]]\n",
    "    y = [2, 2]\n",
    "    plt.plot(x, y, 'k')\n",
    "plt.yticks([])\n",
    "plt.xlabel(\"Genome Pos\")\n",
    "plt.title(\"Constant sites\")\n",
    "plt.show()"
   ]
  },
  {
   "cell_type": "markdown",
   "metadata": {},
   "source": [
    "There are a lot of nearly constant subsequences in human mtDNA according to Helix DB"
   ]
  },
  {
   "cell_type": "markdown",
   "metadata": {},
   "source": [
    "### Look at distinct restrictase site positions annotation in Helix"
   ]
  },
  {
   "cell_type": "code",
   "execution_count": 101,
   "metadata": {},
   "outputs": [
    {
     "data": {
      "text/plain": [
       "array(['BspDI', 'BseCI', 'Bsa29I', 'Bsu15I', 'BshVI', 'BsuTUI', 'ClaI',\n",
       "       'Hso63250IV', 'SnaBI', 'Eco105I', 'BstSNI', 'RceI', 'SciI', 'XhoI',\n",
       "       'SlaI', 'PaeR7I', 'Sfr274I', 'PfoI', 'AjiI', 'BtrI', 'BmgBI',\n",
       "       'Asu14238IV'], dtype=object)"
      ]
     },
     "execution_count": 101,
     "metadata": {},
     "output_type": "execute_result"
    }
   ],
   "source": [
    "# most efficient REs\n",
    "freq_re"
   ]
  },
  {
   "cell_type": "markdown",
   "metadata": {},
   "source": [
    "### CutPos distributions (in quantile view) for most efficient RE"
   ]
  },
  {
   "cell_type": "code",
   "execution_count": 94,
   "metadata": {},
   "outputs": [
    {
     "data": {
      "text/html": [
       "<div>\n",
       "<style scoped>\n",
       "    .dataframe tbody tr th:only-of-type {\n",
       "        vertical-align: middle;\n",
       "    }\n",
       "\n",
       "    .dataframe tbody tr th {\n",
       "        vertical-align: top;\n",
       "    }\n",
       "\n",
       "    .dataframe thead th {\n",
       "        text-align: right;\n",
       "    }\n",
       "</style>\n",
       "<table border=\"1\" class=\"dataframe\">\n",
       "  <thead>\n",
       "    <tr style=\"text-align: right;\">\n",
       "      <th></th>\n",
       "      <th>Site</th>\n",
       "      <th>CutPos_Q2</th>\n",
       "      <th>CutPos_Q50</th>\n",
       "      <th>CutPos_Q99</th>\n",
       "    </tr>\n",
       "    <tr>\n",
       "      <th>RE</th>\n",
       "      <th></th>\n",
       "      <th></th>\n",
       "      <th></th>\n",
       "      <th></th>\n",
       "    </tr>\n",
       "  </thead>\n",
       "  <tbody>\n",
       "    <tr>\n",
       "      <th>AjiI</th>\n",
       "      <td>CACGTC</td>\n",
       "      <td>9816.0</td>\n",
       "      <td>9828.0</td>\n",
       "      <td>9833.0</td>\n",
       "    </tr>\n",
       "    <tr>\n",
       "      <th>Asu14238IV</th>\n",
       "      <td>CGTRAC</td>\n",
       "      <td>1556.0</td>\n",
       "      <td>1562.0</td>\n",
       "      <td>1566.0</td>\n",
       "    </tr>\n",
       "    <tr>\n",
       "      <th>BmgBI</th>\n",
       "      <td>CACGTC</td>\n",
       "      <td>9816.0</td>\n",
       "      <td>9828.0</td>\n",
       "      <td>9833.0</td>\n",
       "    </tr>\n",
       "    <tr>\n",
       "      <th>Bsa29I</th>\n",
       "      <td>ATCGAT</td>\n",
       "      <td>1211.0</td>\n",
       "      <td>1217.0</td>\n",
       "      <td>1221.0</td>\n",
       "    </tr>\n",
       "    <tr>\n",
       "      <th>BseCI</th>\n",
       "      <td>ATCGAT</td>\n",
       "      <td>1211.0</td>\n",
       "      <td>1217.0</td>\n",
       "      <td>1221.0</td>\n",
       "    </tr>\n",
       "    <tr>\n",
       "      <th>BshVI</th>\n",
       "      <td>ATCGAT</td>\n",
       "      <td>1211.0</td>\n",
       "      <td>1217.0</td>\n",
       "      <td>1221.0</td>\n",
       "    </tr>\n",
       "    <tr>\n",
       "      <th>BspDI</th>\n",
       "      <td>ATCGAT</td>\n",
       "      <td>1211.0</td>\n",
       "      <td>1217.0</td>\n",
       "      <td>1221.0</td>\n",
       "    </tr>\n",
       "    <tr>\n",
       "      <th>BstSNI</th>\n",
       "      <td>TACGTA</td>\n",
       "      <td>10725.0</td>\n",
       "      <td>10737.0</td>\n",
       "      <td>10742.0</td>\n",
       "    </tr>\n",
       "    <tr>\n",
       "      <th>Bsu15I</th>\n",
       "      <td>ATCGAT</td>\n",
       "      <td>1211.0</td>\n",
       "      <td>1217.0</td>\n",
       "      <td>1221.0</td>\n",
       "    </tr>\n",
       "    <tr>\n",
       "      <th>BsuTUI</th>\n",
       "      <td>ATCGAT</td>\n",
       "      <td>1211.0</td>\n",
       "      <td>1217.0</td>\n",
       "      <td>1221.0</td>\n",
       "    </tr>\n",
       "    <tr>\n",
       "      <th>BtrI</th>\n",
       "      <td>CACGTC</td>\n",
       "      <td>9816.0</td>\n",
       "      <td>9828.0</td>\n",
       "      <td>9833.0</td>\n",
       "    </tr>\n",
       "    <tr>\n",
       "      <th>ClaI</th>\n",
       "      <td>ATCGAT</td>\n",
       "      <td>1211.0</td>\n",
       "      <td>1217.0</td>\n",
       "      <td>1221.0</td>\n",
       "    </tr>\n",
       "    <tr>\n",
       "      <th>Eco105I</th>\n",
       "      <td>TACGTA</td>\n",
       "      <td>10725.0</td>\n",
       "      <td>10737.0</td>\n",
       "      <td>10742.0</td>\n",
       "    </tr>\n",
       "    <tr>\n",
       "      <th>Hso63250IV</th>\n",
       "      <td>AACNNNNNGTT</td>\n",
       "      <td>5677.0</td>\n",
       "      <td>5683.0</td>\n",
       "      <td>5688.0</td>\n",
       "    </tr>\n",
       "    <tr>\n",
       "      <th>PaeR7I</th>\n",
       "      <td>CTCGAG</td>\n",
       "      <td>14944.0</td>\n",
       "      <td>14956.0</td>\n",
       "      <td>14961.0</td>\n",
       "    </tr>\n",
       "    <tr>\n",
       "      <th>PfoI</th>\n",
       "      <td>TCCNGGA</td>\n",
       "      <td>8105.0</td>\n",
       "      <td>8111.0</td>\n",
       "      <td>8116.0</td>\n",
       "    </tr>\n",
       "    <tr>\n",
       "      <th>RceI</th>\n",
       "      <td>CATCGAC</td>\n",
       "      <td>14815.0</td>\n",
       "      <td>14827.0</td>\n",
       "      <td>14832.0</td>\n",
       "    </tr>\n",
       "    <tr>\n",
       "      <th>SciI</th>\n",
       "      <td>CTCGAG</td>\n",
       "      <td>14946.0</td>\n",
       "      <td>14958.0</td>\n",
       "      <td>14963.0</td>\n",
       "    </tr>\n",
       "    <tr>\n",
       "      <th>Sfr274I</th>\n",
       "      <td>CTCGAG</td>\n",
       "      <td>14944.0</td>\n",
       "      <td>14956.0</td>\n",
       "      <td>14961.0</td>\n",
       "    </tr>\n",
       "    <tr>\n",
       "      <th>SlaI</th>\n",
       "      <td>CTCGAG</td>\n",
       "      <td>14944.0</td>\n",
       "      <td>14956.0</td>\n",
       "      <td>14961.0</td>\n",
       "    </tr>\n",
       "    <tr>\n",
       "      <th>SnaBI</th>\n",
       "      <td>TACGTA</td>\n",
       "      <td>10725.0</td>\n",
       "      <td>10737.0</td>\n",
       "      <td>10742.0</td>\n",
       "    </tr>\n",
       "    <tr>\n",
       "      <th>XhoI</th>\n",
       "      <td>CTCGAG</td>\n",
       "      <td>14944.0</td>\n",
       "      <td>14956.0</td>\n",
       "      <td>14961.0</td>\n",
       "    </tr>\n",
       "  </tbody>\n",
       "</table>\n",
       "</div>"
      ],
      "text/plain": [
       "                   Site  CutPos_Q2  CutPos_Q50  CutPos_Q99\n",
       "RE                                                        \n",
       "AjiI             CACGTC     9816.0      9828.0      9833.0\n",
       "Asu14238IV       CGTRAC     1556.0      1562.0      1566.0\n",
       "BmgBI            CACGTC     9816.0      9828.0      9833.0\n",
       "Bsa29I           ATCGAT     1211.0      1217.0      1221.0\n",
       "BseCI            ATCGAT     1211.0      1217.0      1221.0\n",
       "BshVI            ATCGAT     1211.0      1217.0      1221.0\n",
       "BspDI            ATCGAT     1211.0      1217.0      1221.0\n",
       "BstSNI           TACGTA    10725.0     10737.0     10742.0\n",
       "Bsu15I           ATCGAT     1211.0      1217.0      1221.0\n",
       "BsuTUI           ATCGAT     1211.0      1217.0      1221.0\n",
       "BtrI             CACGTC     9816.0      9828.0      9833.0\n",
       "ClaI             ATCGAT     1211.0      1217.0      1221.0\n",
       "Eco105I          TACGTA    10725.0     10737.0     10742.0\n",
       "Hso63250IV  AACNNNNNGTT     5677.0      5683.0      5688.0\n",
       "PaeR7I           CTCGAG    14944.0     14956.0     14961.0\n",
       "PfoI            TCCNGGA     8105.0      8111.0      8116.0\n",
       "RceI            CATCGAC    14815.0     14827.0     14832.0\n",
       "SciI             CTCGAG    14946.0     14958.0     14963.0\n",
       "Sfr274I          CTCGAG    14944.0     14956.0     14961.0\n",
       "SlaI             CTCGAG    14944.0     14956.0     14961.0\n",
       "SnaBI            TACGTA    10725.0     10737.0     10742.0\n",
       "XhoI             CTCGAG    14944.0     14956.0     14961.0"
      ]
     },
     "execution_count": 94,
     "metadata": {},
     "output_type": "execute_result"
    }
   ],
   "source": [
    "bgr = df[df.RE.isin(freq_re)].groupby(\"RE\")\n",
    "\n",
    "bgr.apply(lambda x: pd.Series({\n",
    "    \"Site\": x.Site.sample().values[0],\n",
    "    \"CutPos_Q2\": x.CutPos.quantile(.02),\n",
    "    \"CutPos_Q50\": x.CutPos.quantile(.5),\n",
    "    \"CutPos_Q99\": x.CutPos.quantile(.99),\n",
    "}))"
   ]
  },
  {
   "cell_type": "markdown",
   "metadata": {},
   "source": [
    "### Positions of **ClaI**\n",
    "[1214, 1219]"
   ]
  },
  {
   "cell_type": "code",
   "execution_count": 109,
   "metadata": {},
   "outputs": [],
   "source": [
    "clai_pos = list(range(1214-1, 1220+1))"
   ]
  },
  {
   "cell_type": "markdown",
   "metadata": {},
   "source": [
    "### Our variations for positions of **ClaI**"
   ]
  },
  {
   "cell_type": "code",
   "execution_count": 110,
   "metadata": {},
   "outputs": [
    {
     "data": {
      "text/html": [
       "<div>\n",
       "<style scoped>\n",
       "    .dataframe tbody tr th:only-of-type {\n",
       "        vertical-align: middle;\n",
       "    }\n",
       "\n",
       "    .dataframe tbody tr th {\n",
       "        vertical-align: top;\n",
       "    }\n",
       "\n",
       "    .dataframe thead th {\n",
       "        text-align: right;\n",
       "    }\n",
       "</style>\n",
       "<table border=\"1\" class=\"dataframe\">\n",
       "  <thead>\n",
       "    <tr style=\"text-align: right;\">\n",
       "      <th></th>\n",
       "      <th>Pos</th>\n",
       "      <th>G</th>\n",
       "      <th>A</th>\n",
       "      <th>T</th>\n",
       "      <th>C</th>\n",
       "      <th>R</th>\n",
       "      <th>Y</th>\n",
       "      <th>W</th>\n",
       "      <th>S</th>\n",
       "      <th>M</th>\n",
       "      <th>K</th>\n",
       "      <th>H</th>\n",
       "      <th>B</th>\n",
       "      <th>V</th>\n",
       "      <th>D</th>\n",
       "      <th>N</th>\n",
       "      <th>-</th>\n",
       "    </tr>\n",
       "  </thead>\n",
       "  <tbody>\n",
       "    <tr>\n",
       "      <th>1212</th>\n",
       "      <td>1213</td>\n",
       "      <td>0</td>\n",
       "      <td>56439</td>\n",
       "      <td>0</td>\n",
       "      <td>0</td>\n",
       "      <td>0</td>\n",
       "      <td>0</td>\n",
       "      <td>0</td>\n",
       "      <td>0</td>\n",
       "      <td>0</td>\n",
       "      <td>0</td>\n",
       "      <td>0</td>\n",
       "      <td>0</td>\n",
       "      <td>0</td>\n",
       "      <td>0</td>\n",
       "      <td>4</td>\n",
       "      <td>2</td>\n",
       "    </tr>\n",
       "    <tr>\n",
       "      <th>1213</th>\n",
       "      <td>1214</td>\n",
       "      <td>0</td>\n",
       "      <td>56439</td>\n",
       "      <td>0</td>\n",
       "      <td>0</td>\n",
       "      <td>0</td>\n",
       "      <td>0</td>\n",
       "      <td>0</td>\n",
       "      <td>0</td>\n",
       "      <td>0</td>\n",
       "      <td>0</td>\n",
       "      <td>0</td>\n",
       "      <td>0</td>\n",
       "      <td>0</td>\n",
       "      <td>0</td>\n",
       "      <td>5</td>\n",
       "      <td>1</td>\n",
       "    </tr>\n",
       "    <tr>\n",
       "      <th>1214</th>\n",
       "      <td>1215</td>\n",
       "      <td>0</td>\n",
       "      <td>0</td>\n",
       "      <td>56439</td>\n",
       "      <td>1</td>\n",
       "      <td>0</td>\n",
       "      <td>0</td>\n",
       "      <td>0</td>\n",
       "      <td>0</td>\n",
       "      <td>0</td>\n",
       "      <td>0</td>\n",
       "      <td>0</td>\n",
       "      <td>0</td>\n",
       "      <td>0</td>\n",
       "      <td>0</td>\n",
       "      <td>5</td>\n",
       "      <td>0</td>\n",
       "    </tr>\n",
       "    <tr>\n",
       "      <th>1215</th>\n",
       "      <td>1216</td>\n",
       "      <td>0</td>\n",
       "      <td>0</td>\n",
       "      <td>0</td>\n",
       "      <td>56440</td>\n",
       "      <td>0</td>\n",
       "      <td>0</td>\n",
       "      <td>0</td>\n",
       "      <td>0</td>\n",
       "      <td>0</td>\n",
       "      <td>0</td>\n",
       "      <td>0</td>\n",
       "      <td>0</td>\n",
       "      <td>0</td>\n",
       "      <td>0</td>\n",
       "      <td>5</td>\n",
       "      <td>0</td>\n",
       "    </tr>\n",
       "    <tr>\n",
       "      <th>1216</th>\n",
       "      <td>1217</td>\n",
       "      <td>56440</td>\n",
       "      <td>0</td>\n",
       "      <td>0</td>\n",
       "      <td>0</td>\n",
       "      <td>0</td>\n",
       "      <td>0</td>\n",
       "      <td>0</td>\n",
       "      <td>0</td>\n",
       "      <td>0</td>\n",
       "      <td>0</td>\n",
       "      <td>0</td>\n",
       "      <td>0</td>\n",
       "      <td>0</td>\n",
       "      <td>0</td>\n",
       "      <td>5</td>\n",
       "      <td>0</td>\n",
       "    </tr>\n",
       "    <tr>\n",
       "      <th>1217</th>\n",
       "      <td>1218</td>\n",
       "      <td>0</td>\n",
       "      <td>56440</td>\n",
       "      <td>0</td>\n",
       "      <td>0</td>\n",
       "      <td>0</td>\n",
       "      <td>0</td>\n",
       "      <td>0</td>\n",
       "      <td>0</td>\n",
       "      <td>0</td>\n",
       "      <td>0</td>\n",
       "      <td>0</td>\n",
       "      <td>0</td>\n",
       "      <td>0</td>\n",
       "      <td>0</td>\n",
       "      <td>5</td>\n",
       "      <td>0</td>\n",
       "    </tr>\n",
       "    <tr>\n",
       "      <th>1218</th>\n",
       "      <td>1219</td>\n",
       "      <td>0</td>\n",
       "      <td>0</td>\n",
       "      <td>56439</td>\n",
       "      <td>0</td>\n",
       "      <td>0</td>\n",
       "      <td>0</td>\n",
       "      <td>0</td>\n",
       "      <td>0</td>\n",
       "      <td>0</td>\n",
       "      <td>0</td>\n",
       "      <td>0</td>\n",
       "      <td>0</td>\n",
       "      <td>0</td>\n",
       "      <td>0</td>\n",
       "      <td>6</td>\n",
       "      <td>0</td>\n",
       "    </tr>\n",
       "    <tr>\n",
       "      <th>1219</th>\n",
       "      <td>1220</td>\n",
       "      <td>0</td>\n",
       "      <td>56439</td>\n",
       "      <td>0</td>\n",
       "      <td>0</td>\n",
       "      <td>0</td>\n",
       "      <td>0</td>\n",
       "      <td>0</td>\n",
       "      <td>0</td>\n",
       "      <td>0</td>\n",
       "      <td>0</td>\n",
       "      <td>0</td>\n",
       "      <td>0</td>\n",
       "      <td>0</td>\n",
       "      <td>0</td>\n",
       "      <td>6</td>\n",
       "      <td>0</td>\n",
       "    </tr>\n",
       "  </tbody>\n",
       "</table>\n",
       "</div>"
      ],
      "text/plain": [
       "       Pos      G      A      T      C  R  Y  W  S  M  K  H  B  V  D  N  -\n",
       "1212  1213      0  56439      0      0  0  0  0  0  0  0  0  0  0  0  4  2\n",
       "1213  1214      0  56439      0      0  0  0  0  0  0  0  0  0  0  0  5  1\n",
       "1214  1215      0      0  56439      1  0  0  0  0  0  0  0  0  0  0  5  0\n",
       "1215  1216      0      0      0  56440  0  0  0  0  0  0  0  0  0  0  5  0\n",
       "1216  1217  56440      0      0      0  0  0  0  0  0  0  0  0  0  0  5  0\n",
       "1217  1218      0  56440      0      0  0  0  0  0  0  0  0  0  0  0  5  0\n",
       "1218  1219      0      0  56439      0  0  0  0  0  0  0  0  0  0  0  6  0\n",
       "1219  1220      0  56439      0      0  0  0  0  0  0  0  0  0  0  0  6  0"
      ]
     },
     "execution_count": 110,
     "metadata": {},
     "output_type": "execute_result"
    }
   ],
   "source": [
    "gs  = pd.read_csv(\"../data/processed/genomes_summary.tsv\", sep=\"\\t\")\n",
    "gs[gs.Pos.isin(clai_pos)]"
   ]
  },
  {
   "cell_type": "markdown",
   "metadata": {},
   "source": [
    "### Helix-db varitations for positions of **ClaI**"
   ]
  },
  {
   "cell_type": "code",
   "execution_count": 111,
   "metadata": {},
   "outputs": [
    {
     "data": {
      "text/html": [
       "<div>\n",
       "<style scoped>\n",
       "    .dataframe tbody tr th:only-of-type {\n",
       "        vertical-align: middle;\n",
       "    }\n",
       "\n",
       "    .dataframe tbody tr th {\n",
       "        vertical-align: top;\n",
       "    }\n",
       "\n",
       "    .dataframe thead th {\n",
       "        text-align: right;\n",
       "    }\n",
       "</style>\n",
       "<table border=\"1\" class=\"dataframe\">\n",
       "  <thead>\n",
       "    <tr style=\"text-align: right;\">\n",
       "      <th></th>\n",
       "      <th>locus</th>\n",
       "      <th>alleles</th>\n",
       "      <th>AF_hom</th>\n",
       "      <th>AF_het</th>\n",
       "    </tr>\n",
       "  </thead>\n",
       "  <tbody>\n",
       "    <tr>\n",
       "      <th>1435</th>\n",
       "      <td>chrM:1214</td>\n",
       "      <td>[\"A\",\"G\"]</td>\n",
       "      <td>0.000000</td>\n",
       "      <td>0.000005</td>\n",
       "    </tr>\n",
       "    <tr>\n",
       "      <th>1436</th>\n",
       "      <td>chrM:1215</td>\n",
       "      <td>[\"T\",\"C\"]</td>\n",
       "      <td>0.000000</td>\n",
       "      <td>0.000010</td>\n",
       "    </tr>\n",
       "    <tr>\n",
       "      <th>1437</th>\n",
       "      <td>chrM:1219</td>\n",
       "      <td>[\"T\",\"C\"]</td>\n",
       "      <td>0.000005</td>\n",
       "      <td>0.000010</td>\n",
       "    </tr>\n",
       "    <tr>\n",
       "      <th>1438</th>\n",
       "      <td>chrM:1220</td>\n",
       "      <td>[\"A\",\"ACTACCTGACCGGCGAGACATTCCAGCTCCCCGCCGTCAC...</td>\n",
       "      <td>0.000000</td>\n",
       "      <td>0.000005</td>\n",
       "    </tr>\n",
       "  </tbody>\n",
       "</table>\n",
       "</div>"
      ],
      "text/plain": [
       "          locus                                            alleles    AF_hom  \\\n",
       "1435  chrM:1214                                          [\"A\",\"G\"]  0.000000   \n",
       "1436  chrM:1215                                          [\"T\",\"C\"]  0.000000   \n",
       "1437  chrM:1219                                          [\"T\",\"C\"]  0.000005   \n",
       "1438  chrM:1220  [\"A\",\"ACTACCTGACCGGCGAGACATTCCAGCTCCCCGCCGTCAC...  0.000000   \n",
       "\n",
       "        AF_het  \n",
       "1435  0.000005  \n",
       "1436  0.000010  \n",
       "1437  0.000010  \n",
       "1438  0.000005  "
      ]
     },
     "execution_count": 111,
     "metadata": {},
     "output_type": "execute_result"
    }
   ],
   "source": [
    "_cols = [\"locus\", \"alleles\", \"AF_hom\", \"AF_het\"]\n",
    "helix[helix.Pos.isin(clai_pos)][_cols]"
   ]
  },
  {
   "cell_type": "markdown",
   "metadata": {},
   "source": [
    "### Result description\n",
    "ClaI (best candidate) site for reference genome is in [1214, 1219]. \n",
    "- [Our analysis](../data/processed/genomes_summary.tsv) shows that this positions are almost fully constant except one gap in 1214 pos one C in 1215 pos;\n",
    "- Helix database show that there are 3 variations (table above), and allele frequency (AF) for them are extremely low even for heteroplasmic calls. Full helix description of these variations are below\n"
   ]
  },
  {
   "cell_type": "code",
   "execution_count": 112,
   "metadata": {},
   "outputs": [
    {
     "data": {
      "text/html": [
       "<div>\n",
       "<style scoped>\n",
       "    .dataframe tbody tr th:only-of-type {\n",
       "        vertical-align: middle;\n",
       "    }\n",
       "\n",
       "    .dataframe tbody tr th {\n",
       "        vertical-align: top;\n",
       "    }\n",
       "\n",
       "    .dataframe thead th {\n",
       "        text-align: right;\n",
       "    }\n",
       "</style>\n",
       "<table border=\"1\" class=\"dataframe\">\n",
       "  <thead>\n",
       "    <tr style=\"text-align: right;\">\n",
       "      <th></th>\n",
       "      <th>locus</th>\n",
       "      <th>alleles</th>\n",
       "      <th>feature</th>\n",
       "      <th>gene</th>\n",
       "      <th>counts_hom</th>\n",
       "      <th>AF_hom</th>\n",
       "      <th>counts_het</th>\n",
       "      <th>AF_het</th>\n",
       "      <th>mean_ARF</th>\n",
       "      <th>max_ARF</th>\n",
       "      <th>haplogroups_for_homoplasmic_variants</th>\n",
       "      <th>haplogroups_for_heteroplasmic_variants</th>\n",
       "      <th>Pos</th>\n",
       "    </tr>\n",
       "  </thead>\n",
       "  <tbody>\n",
       "    <tr>\n",
       "      <th>1435</th>\n",
       "      <td>chrM:1214</td>\n",
       "      <td>[\"A\",\"G\"]</td>\n",
       "      <td>rRNA_gene</td>\n",
       "      <td>MT-RNR1</td>\n",
       "      <td>0</td>\n",
       "      <td>0.000000</td>\n",
       "      <td>1</td>\n",
       "      <td>0.000005</td>\n",
       "      <td>0.096591</td>\n",
       "      <td>0.096591</td>\n",
       "      <td>[]</td>\n",
       "      <td>[[\"H\",1]]</td>\n",
       "      <td>1214</td>\n",
       "    </tr>\n",
       "    <tr>\n",
       "      <th>1436</th>\n",
       "      <td>chrM:1215</td>\n",
       "      <td>[\"T\",\"C\"]</td>\n",
       "      <td>rRNA_gene</td>\n",
       "      <td>MT-RNR1</td>\n",
       "      <td>0</td>\n",
       "      <td>0.000000</td>\n",
       "      <td>2</td>\n",
       "      <td>0.000010</td>\n",
       "      <td>0.178110</td>\n",
       "      <td>0.272730</td>\n",
       "      <td>[]</td>\n",
       "      <td>[[\"L1\",1],[\"L2\",1]]</td>\n",
       "      <td>1215</td>\n",
       "    </tr>\n",
       "    <tr>\n",
       "      <th>1437</th>\n",
       "      <td>chrM:1219</td>\n",
       "      <td>[\"T\",\"C\"]</td>\n",
       "      <td>rRNA_gene</td>\n",
       "      <td>MT-RNR1</td>\n",
       "      <td>1</td>\n",
       "      <td>0.000005</td>\n",
       "      <td>2</td>\n",
       "      <td>0.000010</td>\n",
       "      <td>0.096162</td>\n",
       "      <td>0.102890</td>\n",
       "      <td>[[\"J\",1]]</td>\n",
       "      <td>[[\"I\",1],[\"J\",1]]</td>\n",
       "      <td>1219</td>\n",
       "    </tr>\n",
       "    <tr>\n",
       "      <th>1438</th>\n",
       "      <td>chrM:1220</td>\n",
       "      <td>[\"A\",\"ACTACCTGACCGGCGAGACATTCCAGCTCCCCGCCGTCAC...</td>\n",
       "      <td>rRNA_gene</td>\n",
       "      <td>MT-RNR1</td>\n",
       "      <td>0</td>\n",
       "      <td>0.000000</td>\n",
       "      <td>1</td>\n",
       "      <td>0.000005</td>\n",
       "      <td>0.037037</td>\n",
       "      <td>0.037037</td>\n",
       "      <td>[]</td>\n",
       "      <td>[[\"H\",1]]</td>\n",
       "      <td>1220</td>\n",
       "    </tr>\n",
       "  </tbody>\n",
       "</table>\n",
       "</div>"
      ],
      "text/plain": [
       "          locus                                            alleles    feature  \\\n",
       "1435  chrM:1214                                          [\"A\",\"G\"]  rRNA_gene   \n",
       "1436  chrM:1215                                          [\"T\",\"C\"]  rRNA_gene   \n",
       "1437  chrM:1219                                          [\"T\",\"C\"]  rRNA_gene   \n",
       "1438  chrM:1220  [\"A\",\"ACTACCTGACCGGCGAGACATTCCAGCTCCCCGCCGTCAC...  rRNA_gene   \n",
       "\n",
       "         gene  counts_hom    AF_hom  counts_het    AF_het  mean_ARF   max_ARF  \\\n",
       "1435  MT-RNR1           0  0.000000           1  0.000005  0.096591  0.096591   \n",
       "1436  MT-RNR1           0  0.000000           2  0.000010  0.178110  0.272730   \n",
       "1437  MT-RNR1           1  0.000005           2  0.000010  0.096162  0.102890   \n",
       "1438  MT-RNR1           0  0.000000           1  0.000005  0.037037  0.037037   \n",
       "\n",
       "     haplogroups_for_homoplasmic_variants  \\\n",
       "1435                                   []   \n",
       "1436                                   []   \n",
       "1437                            [[\"J\",1]]   \n",
       "1438                                   []   \n",
       "\n",
       "     haplogroups_for_heteroplasmic_variants   Pos  \n",
       "1435                              [[\"H\",1]]  1214  \n",
       "1436                    [[\"L1\",1],[\"L2\",1]]  1215  \n",
       "1437                      [[\"I\",1],[\"J\",1]]  1219  \n",
       "1438                              [[\"H\",1]]  1220  "
      ]
     },
     "execution_count": 112,
     "metadata": {},
     "output_type": "execute_result"
    }
   ],
   "source": [
    "helix[helix.Pos.isin(clai_pos)]"
   ]
  },
  {
   "cell_type": "markdown",
   "metadata": {},
   "source": [
    "ARF - Alternate Read Fraction = (counts of reads supporting the alternate allele) / (count of all reads at this position)\n",
    "\n",
    "AF_(hom/het) - allele frequency for homoplasmic or heteroplasmic variants"
   ]
  },
  {
   "cell_type": "code",
   "execution_count": null,
   "metadata": {},
   "outputs": [],
   "source": []
  }
 ],
 "metadata": {
  "interpreter": {
   "hash": "93a7148c052c610c1403bc8d286a596fa19423aa3f7e7815a5261acadf4fadc1"
  },
  "kernelspec": {
   "display_name": "Python 3.9.5 ('env_birds': venv)",
   "language": "python",
   "name": "python3"
  },
  "language_info": {
   "codemirror_mode": {
    "name": "ipython",
    "version": 3
   },
   "file_extension": ".py",
   "mimetype": "text/x-python",
   "name": "python",
   "nbconvert_exporter": "python",
   "pygments_lexer": "ipython3",
   "version": "3.9.5"
  },
  "orig_nbformat": 4
 },
 "nbformat": 4,
 "nbformat_minor": 2
}
