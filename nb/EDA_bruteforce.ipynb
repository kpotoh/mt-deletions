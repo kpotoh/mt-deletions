{
 "cells": [
  {
   "cell_type": "code",
   "execution_count": 1,
   "metadata": {},
   "outputs": [],
   "source": [
    "import numpy as np\n",
    "import pandas as pd\n",
    "import matplotlib.pyplot as plt\n",
    "import seaborn as sns"
   ]
  },
  {
   "cell_type": "code",
   "execution_count": 2,
   "metadata": {},
   "outputs": [
    {
     "data": {
      "text/html": [
       "<div>\n",
       "<style scoped>\n",
       "    .dataframe tbody tr th:only-of-type {\n",
       "        vertical-align: middle;\n",
       "    }\n",
       "\n",
       "    .dataframe tbody tr th {\n",
       "        vertical-align: top;\n",
       "    }\n",
       "\n",
       "    .dataframe thead th {\n",
       "        text-align: right;\n",
       "    }\n",
       "</style>\n",
       "<table border=\"1\" class=\"dataframe\">\n",
       "  <thead>\n",
       "    <tr style=\"text-align: right;\">\n",
       "      <th></th>\n",
       "      <th>RE</th>\n",
       "      <th>Site</th>\n",
       "      <th>SeqName</th>\n",
       "      <th>CutPos</th>\n",
       "    </tr>\n",
       "  </thead>\n",
       "  <tbody>\n",
       "    <tr>\n",
       "      <th>0</th>\n",
       "      <td>BmtI</td>\n",
       "      <td>GCTAGC</td>\n",
       "      <td>MK968879.1 Homo sapiens isolate YHL_TK036_F4b1...</td>\n",
       "      <td>4588</td>\n",
       "    </tr>\n",
       "    <tr>\n",
       "      <th>1</th>\n",
       "      <td>NmeA6CIII</td>\n",
       "      <td>GCCGAC</td>\n",
       "      <td>MK968879.1 Homo sapiens isolate YHL_TK036_F4b1...</td>\n",
       "      <td>5940</td>\n",
       "    </tr>\n",
       "    <tr>\n",
       "      <th>2</th>\n",
       "      <td>RceI</td>\n",
       "      <td>CATCGAC</td>\n",
       "      <td>MK968879.1 Homo sapiens isolate YHL_TK036_F4b1...</td>\n",
       "      <td>14830</td>\n",
       "    </tr>\n",
       "    <tr>\n",
       "      <th>3</th>\n",
       "      <td>Eco47III</td>\n",
       "      <td>AGCGCT</td>\n",
       "      <td>MK968879.1 Homo sapiens isolate YHL_TK036_F4b1...</td>\n",
       "      <td>4535</td>\n",
       "    </tr>\n",
       "    <tr>\n",
       "      <th>4</th>\n",
       "      <td>NgoMIV</td>\n",
       "      <td>GCCGGC</td>\n",
       "      <td>MK968879.1 Homo sapiens isolate YHL_TK036_F4b1...</td>\n",
       "      <td>935</td>\n",
       "    </tr>\n",
       "  </tbody>\n",
       "</table>\n",
       "</div>"
      ],
      "text/plain": [
       "          RE     Site                                            SeqName  \\\n",
       "0       BmtI   GCTAGC  MK968879.1 Homo sapiens isolate YHL_TK036_F4b1...   \n",
       "1  NmeA6CIII   GCCGAC  MK968879.1 Homo sapiens isolate YHL_TK036_F4b1...   \n",
       "2       RceI  CATCGAC  MK968879.1 Homo sapiens isolate YHL_TK036_F4b1...   \n",
       "3   Eco47III   AGCGCT  MK968879.1 Homo sapiens isolate YHL_TK036_F4b1...   \n",
       "4     NgoMIV   GCCGGC  MK968879.1 Homo sapiens isolate YHL_TK036_F4b1...   \n",
       "\n",
       "   CutPos  \n",
       "0    4588  \n",
       "1    5940  \n",
       "2   14830  \n",
       "3    4535  \n",
       "4     935  "
      ]
     },
     "execution_count": 2,
     "metadata": {},
     "output_type": "execute_result"
    }
   ],
   "source": [
    "df = pd.read_csv(\"../data/processed/re.csv\")\n",
    "df.head()"
   ]
  },
  {
   "cell_type": "code",
   "execution_count": 8,
   "metadata": {},
   "outputs": [
    {
     "data": {
      "text/html": [
       "<div>\n",
       "<style scoped>\n",
       "    .dataframe tbody tr th:only-of-type {\n",
       "        vertical-align: middle;\n",
       "    }\n",
       "\n",
       "    .dataframe tbody tr th {\n",
       "        vertical-align: top;\n",
       "    }\n",
       "\n",
       "    .dataframe thead th {\n",
       "        text-align: right;\n",
       "    }\n",
       "</style>\n",
       "<table border=\"1\" class=\"dataframe\">\n",
       "  <thead>\n",
       "    <tr style=\"text-align: right;\">\n",
       "      <th></th>\n",
       "      <th>RE</th>\n",
       "      <th>CuttedSeqs</th>\n",
       "    </tr>\n",
       "  </thead>\n",
       "  <tbody>\n",
       "    <tr>\n",
       "      <th>0</th>\n",
       "      <td>BspDI</td>\n",
       "      <td>56384</td>\n",
       "    </tr>\n",
       "    <tr>\n",
       "      <th>1</th>\n",
       "      <td>BseCI</td>\n",
       "      <td>56384</td>\n",
       "    </tr>\n",
       "    <tr>\n",
       "      <th>2</th>\n",
       "      <td>Bsa29I</td>\n",
       "      <td>56384</td>\n",
       "    </tr>\n",
       "    <tr>\n",
       "      <th>3</th>\n",
       "      <td>Bsu15I</td>\n",
       "      <td>56384</td>\n",
       "    </tr>\n",
       "    <tr>\n",
       "      <th>4</th>\n",
       "      <td>BshVI</td>\n",
       "      <td>56384</td>\n",
       "    </tr>\n",
       "  </tbody>\n",
       "</table>\n",
       "</div>"
      ],
      "text/plain": [
       "       RE  CuttedSeqs\n",
       "0   BspDI       56384\n",
       "1   BseCI       56384\n",
       "2  Bsa29I       56384\n",
       "3  Bsu15I       56384\n",
       "4   BshVI       56384"
      ]
     },
     "execution_count": 8,
     "metadata": {},
     "output_type": "execute_result"
    }
   ],
   "source": [
    "df_counts = df.RE.value_counts().reset_index()\n",
    "df_counts.columns = [\"RE\", \"CuttedSeqs\"]\n",
    "df_counts.head()"
   ]
  },
  {
   "cell_type": "code",
   "execution_count": 12,
   "metadata": {},
   "outputs": [
    {
     "data": {
      "image/png": "[encoded data removed]",
      "text/plain": [
       "<Figure size 432x288 with 1 Axes>"
      ]
     },
     "metadata": {
      "needs_background": "light"
     },
     "output_type": "display_data"
    }
   ],
   "source": [
    "df_counts.hist(bins=80)\n",
    "plt.title(\"Distribution of #CuttedSeqs\")\n",
    "plt.xlabel(\"#CuttedSeqs\")\n",
    "plt.ylabel(\"Amount\")\n",
    "plt.show()"
   ]
  },
  {
   "cell_type": "markdown",
   "metadata": {},
   "source": [
    "We can see that many RE cut more than 50000 genomes"
   ]
  },
  {
   "cell_type": "code",
   "execution_count": 25,
   "metadata": {},
   "outputs": [
    {
     "data": {
      "text/plain": [
       "(22,)"
      ]
     },
     "execution_count": 25,
     "metadata": {},
     "output_type": "execute_result"
    }
   ],
   "source": [
    "# sample best RE\n",
    "freq_re = df_counts[df_counts.CuttedSeqs > 56100].RE.values\n",
    "freq_re.shape"
   ]
  },
  {
   "cell_type": "code",
   "execution_count": 29,
   "metadata": {},
   "outputs": [
    {
     "data": {
      "image/png": "[encoded data removed]",
      "text/plain": [
       "<Figure size 1440x720 with 1 Axes>"
      ]
     },
     "metadata": {
      "needs_background": "light"
     },
     "output_type": "display_data"
    }
   ],
   "source": [
    "plt.figure(figsize=(20, 10))\n",
    "sns.boxplot(x=\"RE\", y=\"CutPos\", data=df[df.RE.isin(freq_re)])\n",
    "plt.xticks(rotation=90)\n",
    "plt.title(\"Distributions (boxplots) of cut positions of best REs\")\n",
    "plt.savefig(\"../figures/cut_position.png\", dpi=200)\n",
    "plt.show()"
   ]
  },
  {
   "cell_type": "markdown",
   "metadata": {},
   "source": [
    "This distributions are very tight, but there are some outlayers, that could be formed by huge deletions in genomes"
   ]
  },
  {
   "cell_type": "code",
   "execution_count": null,
   "metadata": {},
   "outputs": [],
   "source": []
  },
  {
   "cell_type": "code",
   "execution_count": null,
   "metadata": {},
   "outputs": [],
   "source": []
  }
 ],
 "metadata": {
  "interpreter": {
   "hash": "93a7148c052c610c1403bc8d286a596fa19423aa3f7e7815a5261acadf4fadc1"
  },
  "kernelspec": {
   "display_name": "Python 3.9.5 ('env_birds': venv)",
   "language": "python",
   "name": "python3"
  },
  "language_info": {
   "codemirror_mode": {
    "name": "ipython",
    "version": 3
   },
   "file_extension": ".py",
   "mimetype": "text/x-python",
   "name": "python",
   "nbconvert_exporter": "python",
   "pygments_lexer": "ipython3",
   "version": "3.9.5"
  },
  "orig_nbformat": 4
 },
 "nbformat": 4,
 "nbformat_minor": 2
}
