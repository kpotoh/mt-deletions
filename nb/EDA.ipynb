{
 "cells": [
  {
   "cell_type": "code",
   "execution_count": 3,
   "metadata": {},
   "outputs": [],
   "source": [
    "import numpy as np\n",
    "import pandas as pd\n",
    "import matplotlib.pyplot as plt\n",
    "from Bio import SeqIO"
   ]
  },
  {
   "cell_type": "code",
   "execution_count": 2,
   "metadata": {},
   "outputs": [],
   "source": [
    "PATH_TO_DATA = \"../data/raw/sequence_mtDNA_FASTA_57k_total_seq.fasta\"\n",
    "PATH_TO_REF = \"../data/share/NC_012920.1.fasta\""
   ]
  },
  {
   "cell_type": "code",
   "execution_count": 35,
   "metadata": {},
   "outputs": [],
   "source": [
    "def read_reference(path: str) -> str:\n",
    "    fasta = SeqIO.parse(path, \"fasta\")\n",
    "    rec = next(fasta)\n",
    "    return str(rec.seq)"
   ]
  },
  {
   "cell_type": "code",
   "execution_count": 39,
   "metadata": {},
   "outputs": [
    {
     "data": {
      "text/plain": [
       "16569"
      ]
     },
     "execution_count": 39,
     "metadata": {},
     "output_type": "execute_result"
    }
   ],
   "source": [
    "refseq = read_reference(PATH_TO_REF)\n",
    "len(refseq)"
   ]
  },
  {
   "cell_type": "code",
   "execution_count": 58,
   "metadata": {},
   "outputs": [
    {
     "name": "stdout",
     "output_type": "stream",
     "text": [
      "56448 NC_003070.9 Arabidopsis thaliana chromosome 1 sequence 30427671\n",
      "56449 CP002684.1 Arabidopsis thaliana chromosome 1 sequence 30427671\n",
      "56628 BA000014.8 Arabidopsis thaliana DNA, chromosome 3, complete sequence 23403063\n",
      "56635 CM029964.1 Histoplasma capsulatum strain G184AR mitochondrion, complete sequence, whole genome shotgun sequence 37489\n",
      "56636 CM029948.1 Histoplasma capsulatum G217B mitochondrion, complete sequence, whole genome shotgun sequence 41220\n",
      "56638 CP025773.1 Cryptococcus gattii VGII R265 mitochondrion, complete genome 31189\n",
      "56639 CM019263.1 Fusarium oxysporum strain MRL8996 mitochondrion, complete sequence, whole genome shotgun sequence 48644\n",
      "56640 CM017920.1 Naegleria fowleri isolate ATCC 30894 mitochondrion, complete sequence, whole genome shotgun sequence 49483\n",
      "56641 CM009948.1 Prototheca wickerhamii strain HMC1 mitochondrion, complete sequence, whole genome shotgun sequence 52179\n",
      "56642 CM022336.1 Rhizopus oryzae strain GL34 mitochondrion, complete sequence, whole genome shotgun sequence 58716\n",
      "56643 CM022335.1 Rhizopus oryzae strain GL56 mitochondrion, complete sequence, whole genome shotgun sequence 58716\n",
      "56648 CP033157.1 Malassezia restricta CBS 7877 mitochondrion, complete genome 33603\n",
      "56649 CP069123.1 Histoplasma capsulatum G186AR mitochondrion, complete genome 37525\n",
      "56650 CP069113.1 Histoplasma capsulatum strain WU24 mitochondrion, complete genome 53936\n",
      "56651 CP069108.1 Histoplasma capsulatum H88 mitochondrion, complete genome 122711\n",
      "56652 NC_039455.1 Malassezia restricta mitochondrion, complete genome 38720\n",
      "56653 CP030260.1 Malassezia restricta strain KCTC 27527 mitochondrion, complete genome 38720\n",
      "56655 NC_020331.1 Pneumocystis jirovecii mitochondrion, complete genome 35626\n",
      "56656 JX499143.1 Pneumocystis jirovecii mitochondrion, complete genome 35626\n",
      "56657 CP068458.1 [Candida] auris strain BJCA001 mitochondrion, complete genome 35161\n",
      "56679 JX855938.1 Pneumocystis jirovecii isolate Pj_1368 mitochondrion, complete genome 35517\n",
      "56680 JX855937.1 Pneumocystis jirovecii isolate Pj_R68 mitochondrion, complete genome 33690\n",
      "56681 JX855936.1 Pneumocystis jirovecii isolate Pj_WI mitochondrion, complete genome 35634\n",
      "56684 MW307784.1 Fusarium musae strain IUM_11-0508 mitochondrion, complete genome 58111\n",
      "56687 MW530528.1 Pneumocystis jirovecii isolate Y3/15 mitochondrion, complete genome 35302\n",
      "56688 MW530527.1 Pneumocystis jirovecii isolate Y2/11 mitochondrion, complete genome 35369\n",
      "56689 MW530526.1 Pneumocystis jirovecii isolate Y1/8 mitochondrion, complete genome 35508\n",
      "56690 MW530525.1 Pneumocystis jirovecii isolate E/16 mitochondrion, complete genome 35213\n",
      "56691 MT319762.1 Pneumocystis jirovecii isolate YS mitochondrion, complete genome 35285\n",
      "56692 MH010446.1 Pneumocystis jirovecii isolate SW7_full mitochondrion, complete genome 35597\n",
      "56693 MH010445.1 Pneumocystis jirovecii isolate SW4_full mitochondrion, complete genome 35049\n",
      "56694 MH010444.1 Pneumocystis jirovecii isolate SW1_full mitochondrion, complete genome 35049\n",
      "56697 MH010441.1 Pneumocystis jirovecii isolate GR5_full mitochondrion, complete genome 35048\n",
      "56698 MH010440.1 Pneumocystis jirovecii isolate GR11b_full mitochondrion, complete genome 35339\n",
      "56700 MH010438.1 Pneumocystis jirovecii isolate CH26_full mitochondrion, complete genome 35473\n",
      "56831 NC_003074.8 Arabidopsis thaliana chromosome 3 sequence 23459830\n",
      "56832 CP002686.1 Arabidopsis thaliana chromosome 3 23459830\n",
      "56833 CP017623.1 Candida albicans SC5314 chromosome 1 3188341\n",
      "56834 NC_003075.7 Arabidopsis thaliana chromosome 4 sequence 18585056\n",
      "56835 CP002687.1 Arabidopsis thaliana chromosome 4 18585056\n",
      "56836 AM270981.1 Aspergillus niger supercontig An02 3626085\n",
      "56837 AJ270060.1 Arabidopsis thaliana DNA chromosome 4, long arm 14497843\n",
      "56838 CP000830.1 Dinoroseobacter shibae DFL 12, complete genome 3789584\n",
      "56839 AE014133.2 Streptococcus mutans UA159, complete genome 2032925\n",
      "56840 CP017630.1 Candida albicans SC5314 chromosome R 2286237\n",
      "56841 AE004092.2 Streptococcus pyogenes M1 GAS, complete genome 1852433\n",
      "56842 CP017624.1 Candida albicans SC5314 chromosome 2 2231883\n",
      "56843 AM270980.1 Aspergillus niger supercontig An01 3625813\n",
      "56844 AM270983.1 Aspergillus niger supercontig An04 2525243\n",
      "56845 AM270079.1 Aspergillus niger contig An04c0180, complete genome 215932\n",
      "56847 AM270987.1 Aspergillus niger supercontig An08 2925080\n",
      "56848 AM270990.1 Aspergillus niger supercontig An11 2721467\n",
      "56850 MW554494.1 Pneumocystis jirovecii isolate D/6 mitochondrion, partial genome 30723\n",
      "56852 CP017626.1 Candida albicans SC5314 chromosome 4 1603259\n",
      "56853 NC_054141.5 *WARNING* : This Is A Test Record for NCBI Testing Purposes Only, based on Arabidopsis thaliana chromosome 1, complete sequence 30432563\n",
      "56854 CP017628.1 Candida albicans SC5314 chromosome 6 1033292\n",
      "56855 CP017625.1 Candida albicans SC5314 chromosome 3 1799298\n",
      "56856 AM270986.1 Aspergillus niger supercontig An07 2341370\n",
      "56857 CP017627.1 Candida albicans SC5314 chromosome 5 1190845\n",
      "56858 NC_054143.4 *WARNING* : This Is A Test Record for NCBI Testing Purposes Only, based on Arabidopsis thaliana chromosome 3, complete sequence 23470805\n",
      "56859 CP017629.1 Candida albicans SC5314 chromosome 7 949511\n",
      "56860 NC_054142.3 *WARNING* : This Is A Test Record for NCBI Testing Purposes Only, based on Arabidopsis thaliana chromosome 2, complete sequence 19705359\n",
      "56861 AM270991.1 Aspergillus niger supercontig An12 2566738\n",
      "56862 NC_054144.3 *WARNING* : This Is A Test Record for NCBI Testing Purposes Only, based on Arabidopsis thaliana chromosome 4, complete sequence 18585042\n",
      "56863 AM270995.1 Aspergillus niger supercontig An16 2132688\n",
      "56864 LT605205.1 Proteiniphilum saccharofermentans isolate M3/6 genome assembly, chromosome: I 4414963\n",
      "56865 AM270994.1 Aspergillus niger supercontig An15 1879820\n",
      "56866 NC_012863.1 Candida dubliniensis CD36 chromosome 4, complete sequence 1641709\n",
      "56867 AM270997.1 Aspergillus niger supercontig An18 1542301\n",
      "56868 FM992691.1 Candida dubliniensis CD36 chromosome 4, complete sequence 1641709\n",
      "56869 CM000646.1 Thalassiosira pseudonana CCMP1335 chromosome 10, whole genome shotgun sequence 1105668\n",
      "56870 FR839629.1 Pichia pastoris CBS 7435 chromosome 2, complete replicon sequence 2399323\n",
      "56871 DS999415.1 Thalassiosira pseudonana CCMP1335 chromosome 11 THAPSchr_11a genomic scaffold, whole genome shotgun sequence 806142\n",
      "56872 CM000648.1 Thalassiosira pseudonana CCMP1335 chromosome 13, whole genome shotgun sequence 1052196\n",
      "56873 NMZC01000005.1 Vibrio cholerae strain VCKSW1 contig00005, whole genome shotgun sequence 796910\n",
      "56874 NMZB01000005.1 Vibrio cholerae strain VCKR3 contig00005, whole genome shotgun sequence 796910\n",
      "56875 CM000644.1 Thalassiosira pseudonana CCMP1335 chromosome 8, whole genome shotgun sequence 1267198\n",
      "56876 CM000650.1 Thalassiosira pseudonana CCMP1335 chromosome 15, whole genome shotgun sequence 931268\n",
      "56877 AM270988.1 Aspergillus niger supercontig An09 1595066\n",
      "56878 NC_012861.1 Candida dubliniensis CD36 chromosome 2, complete sequence 2289089\n",
      "56880 FM992689.1 Candida dubliniensis CD36 chromosome 2, complete sequence 2289089\n",
      "56881 NMZA01000013.1 Vibrio cholerae strain VCKR2 contig00013, whole genome shotgun sequence 168212\n",
      "56882 NMYZ01000013.1 Vibrio cholerae strain VCKR1 contig00013, whole genome shotgun sequence 168247\n",
      "56883 NC_009043.1 Scheffersomyces stipitis CBS 6054 chromosome 3, complete sequence 1841851\n",
      "56884 CP000497.1 Scheffersomyces stipitis CBS 6054 chromosome 3, complete sequence 1841851\n",
      "56885 NC_012073.1 Thalassiosira pseudonana CCMP1335 chromosome 10, whole genome shotgun sequence 1105668\n",
      "56886 NMZC01000009.1 Vibrio cholerae strain VCKSW1 contig00009, whole genome shotgun sequence 232565\n",
      "56887 NMZB01000009.1 Vibrio cholerae strain VCKR3 contig00009, whole genome shotgun sequence 232565\n",
      "56888 NMZA01000009.1 Vibrio cholerae strain VCKR2 contig00009, whole genome shotgun sequence 232565\n",
      "56889 NMYZ01000009.1 Vibrio cholerae strain VCKR1 contig00009, whole genome shotgun sequence 232565\n",
      "56890 NC_012076.1 Thalassiosira pseudonana CCMP1335 chromosome 13, whole genome shotgun sequence 1052196\n",
      "56891 NW_002243504.1 Thalassiosira pseudonana CCMP1335 chromosome 11 THAPSchr_11a genomic scaffold, whole genome shotgun sequence 806142\n",
      "56892 AM270993.2 Aspergillus niger supercontig An14 1734209\n",
      "56893 NMZA01000005.1 Vibrio cholerae strain VCKR2 contig00005, whole genome shotgun sequence 628389\n",
      "56894 NMYZ01000005.1 Vibrio cholerae strain VCKR1 contig00005, whole genome shotgun sequence 628220\n",
      "56895 NC_012078.1 Thalassiosira pseudonana CCMP1335 chromosome 15, whole genome shotgun sequence 931268\n",
      "56896 NC_012071.1 Thalassiosira pseudonana CCMP1335 chromosome 8, whole genome shotgun sequence 1267198\n",
      "56897 NMZC01000007.1 Vibrio cholerae strain VCKSW1 contig00007, whole genome shotgun sequence 246545\n",
      "56898 NMZB01000007.1 Vibrio cholerae strain VCKR3 contig00007, whole genome shotgun sequence 246545\n",
      "56899 NMZA01000007.1 Vibrio cholerae strain VCKR2 contig00007, whole genome shotgun sequence 246545\n",
      "56900 NMYZ01000007.1 Vibrio cholerae strain VCKR1 contig00007, whole genome shotgun sequence 246545\n",
      "56901 NC_013045.1 Micromonas commoda chromosome 8, complete sequence 1276107\n",
      "56902 CP001575.1 Micromonas sp. RCC299 chromosome 8, complete sequence 1276107\n",
      "56903 AM270982.1 Aspergillus niger supercontig An03 1609811\n",
      "56904 AM270996.1 Aspergillus niger supercontig An17 594599\n",
      "56905 AM270075.1 Aspergillus niger contig An04c0140, genomic contig 371827\n",
      "56906 AM270375.1 Aspergillus niger contig An16c0230, genomic contig 169786\n",
      "56907 AM270183.1 Aspergillus niger contig An08c0280, genomic contig 227857\n",
      "56908 AM270026.1 Aspergillus niger contig An02c0310, genomic contig 194890\n",
      "56909 AM270211.1 Aspergillus niger contig An09c0220, genomic contig 119393\n",
      "56910 AM270206.1 Aspergillus niger contig An09c0170, genomic contig 115378\n",
      "56911 AM270068.1 Aspergillus niger contig An04c0070, genomic contig 59682\n",
      "56912 AM270045.1 Aspergillus niger contig An03c0040, genomic contig 132174\n",
      "56913 AM270317.1 Aspergillus niger contig An14c0100, genomic contig 114002\n",
      "56914 AM269968.1 Aspergillus niger contig An01c0210, genomic contig 77537\n",
      "56915 AM270283.1 Aspergillus niger contig An12c0270, genomic contig 52396\n",
      "56916 AM270122.1 Aspergillus niger contig An07c0040, genomic contig 38467\n",
      "56917 AM270007.1 Aspergillus niger contig An02c0120, genomic contig 80892\n",
      "56918 AM270169.1 Aspergillus niger contig An08c0140, genomic contig 107911\n",
      "56919 AM269959.1 Aspergillus niger contig An01c0120, genomic contig 96160\n",
      "56920 AM270247.1 Aspergillus niger contig An11c0300, genomic contig 121011\n",
      "56922 AM270121.1 Aspergillus niger contig An07c0030, genomic contig 76886\n"
     ]
    }
   ],
   "source": [
    "sizes = []\n",
    "for i, rec in enumerate(SeqIO.parse(PATH_TO_DATA, \"fasta\")):\n",
    "    seq = str(rec.seq)\n",
    "    l = len(seq)\n",
    "    if l > 30_000:\n",
    "        print(i, rec.description, l)\n",
    "\n",
    "    sizes.append(l)\n",
    "    if len(set(seq).difference(\"ATGC|NDRYMKSWH\")) != 0:\n",
    "        print(i, set(seq))\n",
    "        \n",
    "        break"
   ]
  },
  {
   "cell_type": "code",
   "execution_count": 56,
   "metadata": {},
   "outputs": [
    {
     "data": {
      "image/png": "[encoded data removed]",
      "text/plain": [
       "<Figure size 432x288 with 1 Axes>"
      ]
     },
     "metadata": {
      "needs_background": "light"
     },
     "output_type": "display_data"
    }
   ],
   "source": [
    "plt.hist(sizes, bins=50);"
   ]
  },
  {
   "cell_type": "code",
   "execution_count": 62,
   "metadata": {},
   "outputs": [
    {
     "data": {
      "text/plain": [
       "874.0997314453125"
      ]
     },
     "execution_count": 62,
     "metadata": {},
     "output_type": "execute_result"
    }
   ],
   "source": [
    "57000 * (16000 + 80) / 1024 / 1024"
   ]
  },
  {
   "cell_type": "code",
   "execution_count": null,
   "metadata": {},
   "outputs": [],
   "source": []
  },
  {
   "cell_type": "code",
   "execution_count": null,
   "metadata": {},
   "outputs": [],
   "source": []
  }
 ],
 "metadata": {
  "interpreter": {
   "hash": "83bd03093b1f97d02e95179d11f9204d360d54a8aa0e9fc5b3a7aced7c03bbd9"
  },
  "kernelspec": {
   "display_name": "Python 3.9.5 ('env': venv)",
   "language": "python",
   "name": "python3"
  },
  "language_info": {
   "codemirror_mode": {
    "name": "ipython",
    "version": 3
   },
   "file_extension": ".py",
   "mimetype": "text/x-python",
   "name": "python",
   "nbconvert_exporter": "python",
   "pygments_lexer": "ipython3",
   "version": "3.9.5"
  },
  "orig_nbformat": 4
 },
 "nbformat": 4,
 "nbformat_minor": 2
}
